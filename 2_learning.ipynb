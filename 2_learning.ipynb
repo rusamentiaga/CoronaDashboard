{
  "nbformat": 4,
  "nbformat_minor": 0,
  "metadata": {
    "colab": {
      "name": "2_learning.ipynb",
      "provenance": [],
      "authorship_tag": "ABX9TyO9huhtRBp+pukMsh9uqJEP",
      "include_colab_link": true
    },
    "kernelspec": {
      "name": "python3",
      "display_name": "Python 3"
    },
    "language_info": {
      "name": "python"
    },
    "accelerator": "GPU"
  },
  "cells": [
    {
      "cell_type": "markdown",
      "metadata": {
        "id": "view-in-github",
        "colab_type": "text"
      },
      "source": [
        "<a href=\"https://colab.research.google.com/github/rusamentiaga/CoronaDashboard/blob/master/2_learning.ipynb\" target=\"_parent\"><img src=\"https://colab.research.google.com/assets/colab-badge.svg\" alt=\"Open In Colab\"/></a>"
      ]
    },
    {
      "cell_type": "code",
      "metadata": {
        "colab": {
          "base_uri": "https://localhost:8080/",
          "height": 36
        },
        "id": "liAYc8UFNlOY",
        "outputId": "5335abb2-5a68-4b75-d25c-ef0aeaffd941"
      },
      "source": [
        "import matplotlib.pyplot as plt\n",
        "import torch\n",
        "torch.version.__version__"
      ],
      "execution_count": 98,
      "outputs": [
        {
          "output_type": "execute_result",
          "data": {
            "application/vnd.google.colaboratory.intrinsic+json": {
              "type": "string"
            },
            "text/plain": [
              "'1.8.0+cu101'"
            ]
          },
          "metadata": {
            "tags": []
          },
          "execution_count": 98
        }
      ]
    },
    {
      "cell_type": "code",
      "metadata": {
        "colab": {
          "base_uri": "https://localhost:8080/"
        },
        "id": "L1woY6pkNr4B",
        "outputId": "a31d7de7-4f34-4388-9d6d-8449abf4a5d7"
      },
      "source": [
        "torch.cuda.is_available()"
      ],
      "execution_count": 99,
      "outputs": [
        {
          "output_type": "execute_result",
          "data": {
            "text/plain": [
              "True"
            ]
          },
          "metadata": {
            "tags": []
          },
          "execution_count": 99
        }
      ]
    },
    {
      "cell_type": "code",
      "metadata": {
        "colab": {
          "base_uri": "https://localhost:8080/",
          "height": 283
        },
        "id": "wvu5JHu5OW5k",
        "outputId": "c69cf4b8-8df0-4e7a-bb16-1e612cb92479"
      },
      "source": [
        "x = torch.tensor(range(100))\n",
        "y = 3*x + 2\n",
        "y = y + 10*(torch.rand(x.shape[0]) - 0.5)\n",
        "plt.plot(x,y)"
      ],
      "execution_count": 100,
      "outputs": [
        {
          "output_type": "execute_result",
          "data": {
            "text/plain": [
              "[<matplotlib.lines.Line2D at 0x7fd23e231110>]"
            ]
          },
          "metadata": {
            "tags": []
          },
          "execution_count": 100
        },
        {
          "output_type": "display_data",
          "data": {
            "image/png": "[encoded data removed]",
            "text/plain": [
              "<Figure size 432x288 with 1 Axes>"
            ]
          },
          "metadata": {
            "tags": [],
            "needs_background": "light"
          }
        }
      ]
    },
    {
      "cell_type": "code",
      "metadata": {
        "id": "ykMGY2H1PC3G"
      },
      "source": [
        "def model(x, w, b):\n",
        "  return w * x + b"
      ],
      "execution_count": 101,
      "outputs": []
    },
    {
      "cell_type": "code",
      "metadata": {
        "colab": {
          "base_uri": "https://localhost:8080/",
          "height": 283
        },
        "id": "9qDCg5sOPIgD",
        "outputId": "f09b4c1c-8ff2-4f69-84bb-8e8fc5ba5b8f"
      },
      "source": [
        "plt.plot(x,y)\n",
        "\n",
        "y2 = model(x, 3, 2)\n",
        "plt.plot(x,y2)"
      ],
      "execution_count": 102,
      "outputs": [
        {
          "output_type": "execute_result",
          "data": {
            "text/plain": [
              "[<matplotlib.lines.Line2D at 0x7fd23e199850>]"
            ]
          },
          "metadata": {
            "tags": []
          },
          "execution_count": 102
        },
        {
          "output_type": "display_data",
          "data": {
            "image/png": "[encoded data removed]",
            "text/plain": [
              "<Figure size 432x288 with 1 Axes>"
            ]
          },
          "metadata": {
            "tags": [],
            "needs_background": "light"
          }
        }
      ]
    },
    {
      "cell_type": "code",
      "metadata": {
        "id": "FImDcO4aPQbp"
      },
      "source": [
        "def loss_fn(y, yp):\n",
        "  squared_diffs = (y - yp)**2\n",
        "  return squared_diffs.mean()"
      ],
      "execution_count": 103,
      "outputs": []
    },
    {
      "cell_type": "code",
      "metadata": {
        "colab": {
          "base_uri": "https://localhost:8080/"
        },
        "id": "mgYTnjq-PbUl",
        "outputId": "a58cd7ae-f42e-4f85-dd20-f97a612efa46"
      },
      "source": [
        "loss_fn(y,y2)"
      ],
      "execution_count": 104,
      "outputs": [
        {
          "output_type": "execute_result",
          "data": {
            "text/plain": [
              "tensor(8.0247)"
            ]
          },
          "metadata": {
            "tags": []
          },
          "execution_count": 104
        }
      ]
    },
    {
      "cell_type": "code",
      "metadata": {
        "colab": {
          "base_uri": "https://localhost:8080/"
        },
        "id": "tOr6U6uDPnGW",
        "outputId": "199d1ef5-032d-4567-af3b-a3c4b406666c"
      },
      "source": [
        "y3 = model(x, 3.5, 10)\n",
        "loss_fn(y, y3)\n"
      ],
      "execution_count": 105,
      "outputs": [
        {
          "output_type": "execute_result",
          "data": {
            "text/plain": [
              "tensor(1286.2002)"
            ]
          },
          "metadata": {
            "tags": []
          },
          "execution_count": 105
        }
      ]
    },
    {
      "cell_type": "markdown",
      "metadata": {
        "id": "FIlzlQ_wSV8t"
      },
      "source": [
        "*   y = wx + b\n",
        "*   dy/dw = x\n",
        "*   dy/db = 1\n",
        "*   dloss/dw = dloss/dy * dy/dw\n",
        "*   dloss/db = dloss/dy * dy/db\n",
        "\n",
        "\n"
      ]
    },
    {
      "cell_type": "code",
      "metadata": {
        "id": "r-qU7ytFRnWL"
      },
      "source": [
        "def dy_dw(x, w, b):\n",
        "  return x\n",
        "\n",
        "def dy_db(x, w, b):\n",
        "  return 1.0\n",
        "\n",
        "def dloss_fn(y, yp):\n",
        "  dsq_diffs = 2 * (y - yp) / yp.size(0)\n",
        "  return dsq_diffs\n",
        "\n",
        "def grad_fn(x, y, yp, w, b):\n",
        "  dloss_dy = dloss_fn(y, yp)\n",
        "  dloss_dw = dloss_dy * dmodel_dw(x, w, b)\n",
        "  dloss_db = dloss_dy * dmodel_db(x, w, b)\n",
        "  return torch.stack([dloss_dw.sum(), dloss_db.sum()])"
      ],
      "execution_count": 106,
      "outputs": []
    },
    {
      "cell_type": "code",
      "metadata": {
        "colab": {
          "base_uri": "https://localhost:8080/"
        },
        "id": "aFkQyAanQxHn",
        "outputId": "fc1adfe9-6188-4cfc-82c5-b0cd088399fe"
      },
      "source": [
        "wp = 1\n",
        "bp = 1\n",
        "\n",
        "print(wp, bp)\n",
        "\n",
        "# Sets learning rate\n",
        "lr = 1e-4\n",
        "# Defines number of epochs\n",
        "n_epochs = 10000\n",
        "\n",
        "for epoch in range(n_epochs):\n",
        "    # Computes our model's predicted output\n",
        "    yp = model(x, wp, bp)\n",
        "    \n",
        "    # How wrong is our model? That's the error! \n",
        "    loss = loss_fn(y, yp)\n",
        "\n",
        "    error = (y - yp)\n",
        "    # It is a regression, so it computes mean squared error (MSE)\n",
        "    \n",
        "    # Computes gradients for both \"a\" and \"b\" parameters\n",
        "    wp_grad = -2 * (x * error).mean()\n",
        "    bp_grad = -2 * error.mean()\n",
        "    \n",
        "    # Updates parameters using gradients and the learning rate\n",
        "    wp = wp - lr * wp_grad\n",
        "    bp = bp - lr * bp_grad\n",
        "\n",
        "    if epoch+1 in (1, 2, 3, 4, 5, 10, 100, 500, 1000, 5000, 10000):\n",
        "      print(f'Epoch {epoch+1}, Loss {loss}')\n",
        "    \n",
        "print(wp, bp)\n",
        "print(loss)"
      ],
      "execution_count": 126,
      "outputs": [
        {
          "output_type": "stream",
          "text": [
            "1 1\n",
            "Epoch 1, Loss 13351.1826171875\n",
            "Epoch 2, Loss 1579.3753662109375\n",
            "Epoch 3, Loss 193.21615600585938\n",
            "Epoch 4, Loss 29.992530822753906\n",
            "Epoch 5, Loss 10.772510528564453\n",
            "Epoch 10, Loss 8.207200050354004\n",
            "Epoch 100, Loss 8.205438613891602\n",
            "Epoch 500, Loss 8.198046684265137\n",
            "Epoch 1000, Loss 8.189225196838379\n",
            "Epoch 5000, Loss 8.132674217224121\n",
            "Epoch 10000, Loss 8.087716102600098\n",
            "tensor(3.0102) tensor(1.3725)\n",
            "tensor(8.0877)\n"
          ],
          "name": "stdout"
        }
      ]
    },
    {
      "cell_type": "code",
      "metadata": {
        "colab": {
          "base_uri": "https://localhost:8080/",
          "height": 283
        },
        "id": "2TICsyVve0T9",
        "outputId": "1f69475d-f1ed-42e2-8082-81a6087ecd4f"
      },
      "source": [
        "plt.plot(x,y)\n",
        "\n",
        "yp = model(x, wp, bp)\n",
        "plt.plot(x, yp)"
      ],
      "execution_count": 113,
      "outputs": [
        {
          "output_type": "execute_result",
          "data": {
            "text/plain": [
              "[<matplotlib.lines.Line2D at 0x7fd23def1210>]"
            ]
          },
          "metadata": {
            "tags": []
          },
          "execution_count": 113
        },
        {
          "output_type": "display_data",
          "data": {
            "image/png": "[encoded data removed]",
            "text/plain": [
              "<Figure size 432x288 with 1 Axes>"
            ]
          },
          "metadata": {
            "tags": [],
            "needs_background": "light"
          }
        }
      ]
    },
    {
      "cell_type": "code",
      "metadata": {
        "colab": {
          "base_uri": "https://localhost:8080/"
        },
        "id": "A8L4FKLggymY",
        "outputId": "801f896a-50c8-499c-b397-528ec28134ae"
      },
      "source": [
        "for i in range(10):\n",
        "  print(i)"
      ],
      "execution_count": 121,
      "outputs": [
        {
          "output_type": "stream",
          "text": [
            "0\n",
            "1\n",
            "2\n",
            "3\n",
            "4\n",
            "5\n",
            "6\n",
            "7\n",
            "8\n",
            "9\n"
          ],
          "name": "stdout"
        }
      ]
    }
  ]
}