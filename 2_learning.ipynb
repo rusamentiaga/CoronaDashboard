{
  "nbformat": 4,
  "nbformat_minor": 0,
  "metadata": {
    "colab": {
      "name": "2_learning.ipynb",
      "provenance": [],
      "authorship_tag": "ABX9TyO3IusG1zuf21NT9GbEDMSL",
      "include_colab_link": true
    },
    "kernelspec": {
      "name": "python3",
      "display_name": "Python 3"
    },
    "language_info": {
      "name": "python"
    },
    "accelerator": "GPU"
  },
  "cells": [
    {
      "cell_type": "markdown",
      "metadata": {
        "id": "view-in-github",
        "colab_type": "text"
      },
      "source": [
        "<a href=\"https://colab.research.google.com/github/rusamentiaga/CoronaDashboard/blob/master/2_learning.ipynb\" target=\"_parent\"><img src=\"https://colab.research.google.com/assets/colab-badge.svg\" alt=\"Open In Colab\"/></a>"
      ]
    },
    {
      "cell_type": "code",
      "metadata": {
        "colab": {
          "base_uri": "https://localhost:8080/",
          "height": 36
        },
        "id": "liAYc8UFNlOY",
        "outputId": "90e22de0-30f4-45f3-b40a-e5d8869c08a7"
      },
      "source": [
        "import matplotlib.pyplot as plt\n",
        "import torch\n",
        "torch.version.__version__"
      ],
      "execution_count": 378,
      "outputs": [
        {
          "output_type": "execute_result",
          "data": {
            "application/vnd.google.colaboratory.intrinsic+json": {
              "type": "string"
            },
            "text/plain": [
              "'1.8.0+cu101'"
            ]
          },
          "metadata": {
            "tags": []
          },
          "execution_count": 378
        }
      ]
    },
    {
      "cell_type": "code",
      "metadata": {
        "colab": {
          "base_uri": "https://localhost:8080/"
        },
        "id": "L1woY6pkNr4B",
        "outputId": "4f8881af-3750-44a0-daf5-54aef5dbc2a5"
      },
      "source": [
        "torch.cuda.is_available()"
      ],
      "execution_count": 379,
      "outputs": [
        {
          "output_type": "execute_result",
          "data": {
            "text/plain": [
              "True"
            ]
          },
          "metadata": {
            "tags": []
          },
          "execution_count": 379
        }
      ]
    },
    {
      "cell_type": "code",
      "metadata": {
        "colab": {
          "base_uri": "https://localhost:8080/",
          "height": 283
        },
        "id": "wvu5JHu5OW5k",
        "outputId": "0048ac2d-fc81-4ff9-beb4-ca2995e3a5dd"
      },
      "source": [
        "x = torch.tensor(range(100))\n",
        "W = 2\n",
        "B = 3\n",
        "y = W*x + B\n",
        "y = y + 10*(torch.rand(x.shape[0]) - 0.5)\n",
        "plt.plot(x,y)"
      ],
      "execution_count": 380,
      "outputs": [
        {
          "output_type": "execute_result",
          "data": {
            "text/plain": [
              "[<matplotlib.lines.Line2D at 0x7fd22ad60b90>]"
            ]
          },
          "metadata": {
            "tags": []
          },
          "execution_count": 380
        },
        {
          "output_type": "display_data",
          "data": {
            "image/png": "[encoded data removed]",
            "text/plain": [
              "<Figure size 432x288 with 1 Axes>"
            ]
          },
          "metadata": {
            "tags": [],
            "needs_background": "light"
          }
        }
      ]
    },
    {
      "cell_type": "code",
      "metadata": {
        "id": "ykMGY2H1PC3G"
      },
      "source": [
        "def model(x, w, b):\n",
        "  return w * x + b"
      ],
      "execution_count": 381,
      "outputs": []
    },
    {
      "cell_type": "code",
      "metadata": {
        "colab": {
          "base_uri": "https://localhost:8080/",
          "height": 283
        },
        "id": "9qDCg5sOPIgD",
        "outputId": "fdf815de-30c5-4821-8d52-cb565e179a79"
      },
      "source": [
        "plt.plot(x,y)\n",
        "\n",
        "yp = model(x, W, B)\n",
        "plt.plot(x,yp)"
      ],
      "execution_count": 382,
      "outputs": [
        {
          "output_type": "execute_result",
          "data": {
            "text/plain": [
              "[<matplotlib.lines.Line2D at 0x7fd22b258c50>]"
            ]
          },
          "metadata": {
            "tags": []
          },
          "execution_count": 382
        },
        {
          "output_type": "display_data",
          "data": {
            "image/png": "[encoded data removed]",
            "text/plain": [
              "<Figure size 432x288 with 1 Axes>"
            ]
          },
          "metadata": {
            "tags": [],
            "needs_background": "light"
          }
        }
      ]
    },
    {
      "cell_type": "code",
      "metadata": {
        "id": "FImDcO4aPQbp"
      },
      "source": [
        "def loss_fn(yp, y):\n",
        "  squared_diffs = (yp - y)**2\n",
        "  return squared_diffs.mean()"
      ],
      "execution_count": 383,
      "outputs": []
    },
    {
      "cell_type": "code",
      "metadata": {
        "colab": {
          "base_uri": "https://localhost:8080/"
        },
        "id": "mgYTnjq-PbUl",
        "outputId": "5fb4d2fe-525b-492a-f8dd-bfa340e16113"
      },
      "source": [
        "loss_fn(yp, y)"
      ],
      "execution_count": 384,
      "outputs": [
        {
          "output_type": "execute_result",
          "data": {
            "text/plain": [
              "tensor(8.0265)"
            ]
          },
          "metadata": {
            "tags": []
          },
          "execution_count": 384
        }
      ]
    },
    {
      "cell_type": "code",
      "metadata": {
        "colab": {
          "base_uri": "https://localhost:8080/"
        },
        "id": "tOr6U6uDPnGW",
        "outputId": "e813d20c-ddf3-4121-a023-c6687b36ee50"
      },
      "source": [
        "y3 = model(x, W, B + .3)\n",
        "loss_fn(y3, y)"
      ],
      "execution_count": 385,
      "outputs": [
        {
          "output_type": "execute_result",
          "data": {
            "text/plain": [
              "tensor(7.9776)"
            ]
          },
          "metadata": {
            "tags": []
          },
          "execution_count": 385
        }
      ]
    },
    {
      "cell_type": "markdown",
      "metadata": {
        "id": "FIlzlQ_wSV8t"
      },
      "source": [
        "*   y = wx + b\n",
        "*   dy/dw = x\n",
        "*   dy/db = 1\n",
        "*   dloss/dw = dloss/dy * dy/dw\n",
        "*   dloss/db = dloss/dy * dy/db\n",
        "\n",
        "\n"
      ]
    },
    {
      "cell_type": "code",
      "metadata": {
        "id": "r-qU7ytFRnWL"
      },
      "source": [
        "def dy_dw(x, w, b):\n",
        "  return x\n",
        "\n",
        "def dy_db(x, w, b):\n",
        "  return 1.0\n",
        "\n",
        "def dloss_fn(yp, y):\n",
        "  dsq_diffs = 2 * (yp - y) / yp.size(0)\n",
        "  return dsq_diffs\n",
        "\n",
        "def grad_fn(x, y, yp, w, b):\n",
        "  dloss_dy = dloss_fn(yp, y)\n",
        "  dloss_dw = dloss_dy * dmodel_dw(x, w, b)\n",
        "  dloss_db = dloss_dy * dmodel_db(x, w, b)\n",
        "  return (dloss_dw.sum(), dloss_db.sum())"
      ],
      "execution_count": 386,
      "outputs": []
    },
    {
      "cell_type": "code",
      "metadata": {
        "id": "aFkQyAanQxHn"
      },
      "source": [
        "def training_loop(n_epochs, learning_rate, wp, bp, x, y):\n",
        "\n",
        "  loss_epochs = []\n",
        "  for epoch in range(n_epochs):\n",
        "      # Computes our model's predicted output\n",
        "      yp = model(x, wp, bp)\n",
        "      \n",
        "      # How wrong is our model? That's the error! \n",
        "      loss = loss_fn(yp, y)\n",
        "      loss_epochs.append(loss)\n",
        "\n",
        "      (wp_grad, bp_grad) = grad_fn(x, y, yp, wp, bp)\n",
        "    \n",
        "      # Updates parameters using gradients and the learning rate\n",
        "      wp = wp - learning_rate * wp_grad\n",
        "      bp = bp - learning_rate * bp_grad\n",
        "\n",
        "      if epoch+1 in (1, 2, 3, 4, 5, 10, 100, 500, 1000, 5000, 10000):\n",
        "        print(f'Epoch {epoch+1}, Loss {loss}, wp_grad: {wp_grad}, bp_grad: {bp_grad}')\n",
        "    \n",
        "  return (wp, bp, loss_epochs)"
      ],
      "execution_count": 387,
      "outputs": []
    },
    {
      "cell_type": "code",
      "metadata": {
        "colab": {
          "base_uri": "https://localhost:8080/"
        },
        "id": "xwGpwYHzp0Me",
        "outputId": "0852a975-ac4a-4e94-bbdd-5f942032cf79"
      },
      "source": [
        "(wp, bp, loss) = training_loop(n_epochs = 1000, \n",
        "              learning_rate = 1e-2,\n",
        "              wp = 1,\n",
        "              bp = 1,\n",
        "              x = x,\n",
        "              y = y)"
      ],
      "execution_count": 388,
      "outputs": [
        {
          "output_type": "stream",
          "text": [
            "Epoch 1, Loss 3507.5419921875, wp_grad: -6778.0888671875, bp_grad: -103.46330261230469\n",
            "Epoch 2, Loss 14636134.0, wp_grad: 438441.40625, bp_grad: 6608.91357421875\n",
            "Epoch 3, Loss 61239586816.0, wp_grad: -28360548.0, bp_grad: -427580.25\n",
            "Epoch 4, Loss 256234963861504.0, wp_grad: 1834499968.0, bp_grad: 27657912.0\n",
            "Epoch 5, Loss 1.0721228618475766e+18, wp_grad: -118664486912.0, bp_grad: -1789050112.0\n",
            "Epoch 10, Loss 1.374913489591841e+36, wp_grad: 1.3438049035552712e+20, bp_grad: 2.025992835810984e+18\n",
            "Epoch 100, Loss nan, wp_grad: nan, bp_grad: nan\n",
            "Epoch 500, Loss nan, wp_grad: nan, bp_grad: nan\n",
            "Epoch 1000, Loss nan, wp_grad: nan, bp_grad: nan\n"
          ],
          "name": "stdout"
        }
      ]
    },
    {
      "cell_type": "code",
      "metadata": {
        "colab": {
          "base_uri": "https://localhost:8080/"
        },
        "id": "3LIctvJfoapr",
        "outputId": "4fd90402-45d3-4d9f-9269-c363def19af3"
      },
      "source": [
        "(wp, bp, loss) = training_loop(n_epochs = 10000, \n",
        "              learning_rate = 1e-4,\n",
        "              wp = 1,\n",
        "              bp = 1,\n",
        "              x = x,\n",
        "              y = y)"
      ],
      "execution_count": 389,
      "outputs": [
        {
          "output_type": "stream",
          "text": [
            "Epoch 1, Loss 3507.5419921875, wp_grad: -6778.0888671875, bp_grad: -103.46330261230469\n",
            "Epoch 2, Loss 421.4385986328125, wp_grad: -2325.8935546875, bp_grad: -36.339534759521484\n",
            "Epoch 3, Loss 58.04237365722656, wp_grad: -798.1195068359375, bp_grad: -13.305923461914062\n",
            "Epoch 4, Loss 15.251437187194824, wp_grad: -273.8628234863281, bp_grad: -5.40187931060791\n",
            "Epoch 5, Loss 10.212542533874512, wp_grad: -93.96290588378906, bp_grad: -2.6895480155944824\n",
            "Epoch 10, Loss 9.539255142211914, wp_grad: -0.4269294738769531, bp_grad: -1.2790272235870361\n",
            "Epoch 100, Loss 9.524724006652832, wp_grad: 0.019515037536621094, bp_grad: -1.2664952278137207\n",
            "Epoch 500, Loss 9.461835861206055, wp_grad: 0.018097877502441406, bp_grad: -1.2410647869110107\n",
            "Epoch 1000, Loss 9.386731147766113, wp_grad: 0.01899242401123047, bp_grad: -1.2099534273147583\n",
            "Epoch 5000, Loss 8.905291557312012, wp_grad: 0.014902114868164062, bp_grad: -0.9876922965049744\n",
            "Epoch 10000, Loss 8.522652626037598, wp_grad: 0.010914802551269531, bp_grad: -0.7663712501525879\n"
          ],
          "name": "stdout"
        }
      ]
    },
    {
      "cell_type": "code",
      "metadata": {
        "colab": {
          "base_uri": "https://localhost:8080/",
          "height": 283
        },
        "id": "8tTh1ZBw6jzN",
        "outputId": "2f2dc780-0b47-4438-8ab9-4405cae5b3d5"
      },
      "source": [
        "plt.semilogy(loss[1:50])"
      ],
      "execution_count": 390,
      "outputs": [
        {
          "output_type": "execute_result",
          "data": {
            "text/plain": [
              "[<matplotlib.lines.Line2D at 0x7fd22acb8ad0>]"
            ]
          },
          "metadata": {
            "tags": []
          },
          "execution_count": 390
        },
        {
          "output_type": "display_data",
          "data": {
            "image/png": "[encoded data removed]",
            "text/plain": [
              "<Figure size 432x288 with 1 Axes>"
            ]
          },
          "metadata": {
            "tags": [],
            "needs_background": "light"
          }
        }
      ]
    },
    {
      "cell_type": "code",
      "metadata": {
        "colab": {
          "base_uri": "https://localhost:8080/",
          "height": 283
        },
        "id": "2TICsyVve0T9",
        "outputId": "0d8814a5-1e24-4895-c50f-aa4626023de3"
      },
      "source": [
        "plt.plot(x,y)\n",
        "\n",
        "yp = model(x, wp, bp)\n",
        "plt.plot(x, yp)"
      ],
      "execution_count": 391,
      "outputs": [
        {
          "output_type": "execute_result",
          "data": {
            "text/plain": [
              "[<matplotlib.lines.Line2D at 0x7fd22ac06f90>]"
            ]
          },
          "metadata": {
            "tags": []
          },
          "execution_count": 391
        },
        {
          "output_type": "display_data",
          "data": {
            "image/png": "[encoded data removed]",
            "text/plain": [
              "<Figure size 432x288 with 1 Axes>"
            ]
          },
          "metadata": {
            "tags": [],
            "needs_background": "light"
          }
        }
      ]
    },
    {
      "cell_type": "code",
      "metadata": {
        "colab": {
          "base_uri": "https://localhost:8080/"
        },
        "id": "A8L4FKLggymY",
        "outputId": "63b9aacd-26cf-4258-a595-131c827e544e"
      },
      "source": [
        "(wp, bp, loss) = training_loop(n_epochs = 1000, \n",
        "              learning_rate = 1e-2,\n",
        "              wp = 1,\n",
        "              bp = 1,\n",
        "              x = x*0.1,\n",
        "              y = y)"
      ],
      "execution_count": 392,
      "outputs": [
        {
          "output_type": "stream",
          "text": [
            "Epoch 1, Loss 12267.45703125, wp_grad: -1268.8389892578125, bp_grad: -192.5633087158203\n",
            "Epoch 2, Loss 1329.003173828125, wp_grad: -416.5285339355469, bp_grad: -63.09697723388672\n",
            "Epoch 3, Loss 150.32176208496094, wp_grad: -136.74754333496094, bp_grad: -20.59870147705078\n",
            "Epoch 4, Loss 23.312021255493164, wp_grad: -44.90619659423828, bp_grad: -6.648726463317871\n",
            "Epoch 5, Loss 9.625701904296875, wp_grad: -14.758058547973633, bp_grad: -2.0700347423553467\n",
            "Epoch 10, Loss 7.9714674949646, wp_grad: -0.0810164213180542, bp_grad: 0.15520942211151123\n",
            "Epoch 100, Loss 7.955089092254639, wp_grad: -0.015906929969787598, bp_grad: 0.1046471893787384\n",
            "Epoch 500, Loss 7.944011211395264, wp_grad: -0.0021741390228271484, bp_grad: 0.014311984181404114\n",
            "Epoch 1000, Loss 7.943801403045654, wp_grad: -0.00016546249389648438, bp_grad: 0.001194596290588379\n"
          ],
          "name": "stdout"
        }
      ]
    },
    {
      "cell_type": "code",
      "metadata": {
        "colab": {
          "base_uri": "https://localhost:8080/"
        },
        "id": "F-sPfbgFrkBL",
        "outputId": "02ec2515-3ac9-427e-9397-77058917ee06"
      },
      "source": [
        "from sklearn.linear_model import LinearRegression\n",
        "import numpy\n",
        "linr = LinearRegression()\n",
        "xnp = x.numpy().reshape((-1, 1))\n",
        "ynp = y.numpy()\n",
        "linr.fit(xnp, ynp)\n",
        "print(linr.intercept_, linr.coef_[0])\n",
        "\n",
        "yp = model(x, linr.coef_[0], linr.intercept_)\n",
        "     \n",
        "# How wrong is our model? That's the error! \n",
        "loss = loss_fn(yp, y)\n",
        "\n",
        "print(loss)"
      ],
      "execution_count": 393,
      "outputs": [
        {
          "output_type": "stream",
          "text": [
            "3.52408166479357 1.9940923436339681\n",
            "tensor(7.9438)\n"
          ],
          "name": "stdout"
        }
      ]
    },
    {
      "cell_type": "code",
      "metadata": {
        "colab": {
          "base_uri": "https://localhost:8080/"
        },
        "id": "It6c0WdXr21M",
        "outputId": "ca212c1a-2a43-462c-d5aa-66d9cfcab51e"
      },
      "source": [
        "def training_loop_grad(n_epochs, learning_rate, wp, bp, x, y):\n",
        "\n",
        "  wp = torch.tensor(wp, requires_grad=True, dtype=torch.float)\n",
        "  bp = torch.tensor(bp, requires_grad=True, dtype=torch.float)\n",
        "\n",
        "  for epoch in range(n_epochs):\n",
        "      # Computes our model's predicted output\n",
        "      yp = model(x, wp, bp)\n",
        "      \n",
        "      # How wrong is our model? That's the error! \n",
        "      loss = loss_fn(yp, y)\n",
        "      loss.backward()\n",
        "\n",
        "      # no_grad sirve para que pytorch no tenga en cuenta esta operación en el cáluclo del gradiente\n",
        "      with torch.no_grad():\n",
        "        wp -= learning_rate * wp.grad\n",
        "        bp -= learning_rate * bp.grad\n",
        "\n",
        "      if epoch+1 in (1, 2, 3, 4, 5, 10, 100, 500, 1000, 5000, 10000):\n",
        "        print(f'Epoch {epoch+1}, Loss {loss}, wp_grad: {wp.grad}, bp_grad: {bp.grad}')\n",
        "\n",
        "      wp.grad.zero_()\n",
        "      bp.grad.zero_()\n",
        "    \n",
        "  return (wp, bp)\n",
        "\n",
        "\n",
        "(wp, bp) = training_loop_grad(n_epochs = 1000, \n",
        "              learning_rate = 1e-4,\n",
        "              wp = 1.0,\n",
        "              bp = 1.0,\n",
        "              x = x,\n",
        "              y = y)"
      ],
      "execution_count": 404,
      "outputs": [
        {
          "output_type": "stream",
          "text": [
            "Epoch 1, Loss 3507.5419921875, wp_grad: -6778.0888671875, bp_grad: -103.46330261230469\n",
            "Epoch 2, Loss 421.4385986328125, wp_grad: -2325.8935546875, bp_grad: -36.33953094482422\n",
            "Epoch 3, Loss 58.04237365722656, wp_grad: -798.1195068359375, bp_grad: -13.305923461914062\n",
            "Epoch 4, Loss 15.251437187194824, wp_grad: -273.86279296875, bp_grad: -5.40187931060791\n",
            "Epoch 5, Loss 10.212542533874512, wp_grad: -93.96290588378906, bp_grad: -2.6895480155944824\n",
            "Epoch 10, Loss 9.539255142211914, wp_grad: -0.4269294738769531, bp_grad: -1.2790272235870361\n",
            "Epoch 100, Loss 9.524724006652832, wp_grad: 0.019517898559570312, bp_grad: -1.2664949893951416\n",
            "Epoch 500, Loss 9.461835861206055, wp_grad: 0.018098831176757812, bp_grad: -1.2410647869110107\n",
            "Epoch 1000, Loss 9.386731147766113, wp_grad: 0.018995285034179688, bp_grad: -1.2099534273147583\n"
          ],
          "name": "stdout"
        }
      ]
    },
    {
      "cell_type": "code",
      "metadata": {
        "colab": {
          "base_uri": "https://localhost:8080/"
        },
        "id": "ZwC2WlOszlli",
        "outputId": "a2135195-7ecc-42be-9f54-68fff38565ea"
      },
      "source": [
        "!pip install torchviz"
      ],
      "execution_count": 395,
      "outputs": [
        {
          "output_type": "stream",
          "text": [
            "Requirement already satisfied: torchviz in /usr/local/lib/python3.7/dist-packages (0.0.1)\n",
            "Requirement already satisfied: torch in /usr/local/lib/python3.7/dist-packages (from torchviz) (1.8.0+cu101)\n",
            "Requirement already satisfied: graphviz in /usr/local/lib/python3.7/dist-packages (from torchviz) (0.10.1)\n",
            "Requirement already satisfied: numpy in /usr/local/lib/python3.7/dist-packages (from torch->torchviz) (1.19.5)\n",
            "Requirement already satisfied: typing-extensions in /usr/local/lib/python3.7/dist-packages (from torch->torchviz) (3.7.4.3)\n"
          ],
          "name": "stdout"
        }
      ]
    },
    {
      "cell_type": "code",
      "metadata": {
        "colab": {
          "base_uri": "https://localhost:8080/",
          "height": 477
        },
        "id": "_9ecUYzO1LsQ",
        "outputId": "0648757c-5c9c-4303-fc31-d030a2194b32"
      },
      "source": [
        "import torchviz\n",
        "\n",
        "w = torch.randn(1, requires_grad=True, dtype=torch.float)\n",
        "b = torch.randn(1, requires_grad=True, dtype=torch.float)\n",
        "\n",
        "yp = x * w + b\n",
        "error = yp - y\n",
        "loss = (error ** 2).mean()\n",
        "\n",
        "torchviz.make_dot(loss)"
      ],
      "execution_count": 396,
      "outputs": [
        {
          "output_type": "execute_result",
          "data": {
            "text/plain": [
              "<graphviz.dot.Digraph at 0x7fd22ab79d50>"
            ],
            "image/svg+xml": "<?xml version=\"1.0\" encoding=\"UTF-8\" standalone=\"no\"?>\n<!DOCTYPE svg PUBLIC \"-//W3C//DTD SVG 1.1//EN\"\n \"http://www.w3.org/Graphics/SVG/1.1/DTD/svg11.dtd\">\n<!-- Generated by graphviz version 2.40.1 (20161225.0304)\n -->\n<!-- Title: %3 Pages: 1 -->\n<svg width=\"172pt\" height=\"342pt\"\n viewBox=\"0.00 0.00 171.50 342.00\" xmlns=\"http://www.w3.org/2000/svg\" xmlns:xlink=\"http://www.w3.org/1999/xlink\">\n<g id=\"graph0\" class=\"graph\" transform=\"scale(1 1) rotate(0) translate(4 338)\">\n<title>%3</title>\n<polygon fill=\"#ffffff\" stroke=\"transparent\" points=\"-4,4 -4,-338 167.5,-338 167.5,4 -4,4\"/>\n<!-- 140540644806736 -->\n<g id=\"node1\" class=\"node\">\n<title>140540644806736</title>\n<polygon fill=\"#caff70\" stroke=\"#000000\" points=\"139.5,-21 41.5,-21 41.5,0 139.5,0 139.5,-21\"/>\n<text text-anchor=\"middle\" x=\"90.5\" y=\"-7.4\" font-family=\"Times,serif\" font-size=\"12.00\" fill=\"#000000\">MeanBackward0</text>\n</g>\n<!-- 140540636533072 -->\n<g id=\"node2\" class=\"node\">\n<title>140540636533072</title>\n<polygon fill=\"#d3d3d3\" stroke=\"#000000\" points=\"137,-78 44,-78 44,-57 137,-57 137,-78\"/>\n<text text-anchor=\"middle\" x=\"90.5\" y=\"-64.4\" font-family=\"Times,serif\" font-size=\"12.00\" fill=\"#000000\">PowBackward0</text>\n</g>\n<!-- 140540636533072&#45;&gt;140540644806736 -->\n<g id=\"edge1\" class=\"edge\">\n<title>140540636533072&#45;&gt;140540644806736</title>\n<path fill=\"none\" stroke=\"#000000\" d=\"M90.5,-56.7787C90.5,-49.6134 90.5,-39.9517 90.5,-31.3097\"/>\n<polygon fill=\"#000000\" stroke=\"#000000\" points=\"94.0001,-31.1732 90.5,-21.1732 87.0001,-31.1732 94.0001,-31.1732\"/>\n</g>\n<!-- 140540636533840 -->\n<g id=\"node3\" class=\"node\">\n<title>140540636533840</title>\n<polygon fill=\"#d3d3d3\" stroke=\"#000000\" points=\"135.5,-135 45.5,-135 45.5,-114 135.5,-114 135.5,-135\"/>\n<text text-anchor=\"middle\" x=\"90.5\" y=\"-121.4\" font-family=\"Times,serif\" font-size=\"12.00\" fill=\"#000000\">SubBackward0</text>\n</g>\n<!-- 140540636533840&#45;&gt;140540636533072 -->\n<g id=\"edge2\" class=\"edge\">\n<title>140540636533840&#45;&gt;140540636533072</title>\n<path fill=\"none\" stroke=\"#000000\" d=\"M90.5,-113.7787C90.5,-106.6134 90.5,-96.9517 90.5,-88.3097\"/>\n<polygon fill=\"#000000\" stroke=\"#000000\" points=\"94.0001,-88.1732 90.5,-78.1732 87.0001,-88.1732 94.0001,-88.1732\"/>\n</g>\n<!-- 140540636533584 -->\n<g id=\"node4\" class=\"node\">\n<title>140540636533584</title>\n<polygon fill=\"#d3d3d3\" stroke=\"#000000\" points=\"136.5,-192 44.5,-192 44.5,-171 136.5,-171 136.5,-192\"/>\n<text text-anchor=\"middle\" x=\"90.5\" y=\"-178.4\" font-family=\"Times,serif\" font-size=\"12.00\" fill=\"#000000\">AddBackward0</text>\n</g>\n<!-- 140540636533584&#45;&gt;140540636533840 -->\n<g id=\"edge3\" class=\"edge\">\n<title>140540636533584&#45;&gt;140540636533840</title>\n<path fill=\"none\" stroke=\"#000000\" d=\"M90.5,-170.7787C90.5,-163.6134 90.5,-153.9517 90.5,-145.3097\"/>\n<polygon fill=\"#000000\" stroke=\"#000000\" points=\"94.0001,-145.1732 90.5,-135.1732 87.0001,-145.1732 94.0001,-145.1732\"/>\n</g>\n<!-- 140540636534864 -->\n<g id=\"node5\" class=\"node\">\n<title>140540636534864</title>\n<polygon fill=\"#d3d3d3\" stroke=\"#000000\" points=\"91,-256 0,-256 0,-235 91,-235 91,-256\"/>\n<text text-anchor=\"middle\" x=\"45.5\" y=\"-242.4\" font-family=\"Times,serif\" font-size=\"12.00\" fill=\"#000000\">MulBackward0</text>\n</g>\n<!-- 140540636534864&#45;&gt;140540636533584 -->\n<g id=\"edge4\" class=\"edge\">\n<title>140540636534864&#45;&gt;140540636533584</title>\n<path fill=\"none\" stroke=\"#000000\" d=\"M52.9308,-234.9317C59.4705,-225.6309 69.1534,-211.8597 77.0509,-200.6276\"/>\n<polygon fill=\"#000000\" stroke=\"#000000\" points=\"80.019,-202.4914 82.9077,-192.2979 74.2928,-198.4651 80.019,-202.4914\"/>\n</g>\n<!-- 140540636532816 -->\n<g id=\"node6\" class=\"node\">\n<title>140540636532816</title>\n<polygon fill=\"#add8e6\" stroke=\"#000000\" points=\"72.5,-334 18.5,-334 18.5,-299 72.5,-299 72.5,-334\"/>\n<text text-anchor=\"middle\" x=\"45.5\" y=\"-306.4\" font-family=\"Times,serif\" font-size=\"12.00\" fill=\"#000000\"> (1)</text>\n</g>\n<!-- 140540636532816&#45;&gt;140540636534864 -->\n<g id=\"edge5\" class=\"edge\">\n<title>140540636532816&#45;&gt;140540636534864</title>\n<path fill=\"none\" stroke=\"#000000\" d=\"M45.5,-298.9494C45.5,-289.058 45.5,-276.6435 45.5,-266.2693\"/>\n<polygon fill=\"#000000\" stroke=\"#000000\" points=\"49.0001,-266.0288 45.5,-256.0288 42.0001,-266.0289 49.0001,-266.0288\"/>\n</g>\n<!-- 140540636533776 -->\n<g id=\"node7\" class=\"node\">\n<title>140540636533776</title>\n<polygon fill=\"#add8e6\" stroke=\"#000000\" points=\"163.5,-263 109.5,-263 109.5,-228 163.5,-228 163.5,-263\"/>\n<text text-anchor=\"middle\" x=\"136.5\" y=\"-235.4\" font-family=\"Times,serif\" font-size=\"12.00\" fill=\"#000000\"> (1)</text>\n</g>\n<!-- 140540636533776&#45;&gt;140540636533584 -->\n<g id=\"edge6\" class=\"edge\">\n<title>140540636533776&#45;&gt;140540636533584</title>\n<path fill=\"none\" stroke=\"#000000\" d=\"M123.6864,-227.6724C117.6095,-219.2176 110.3436,-209.1085 104.1618,-200.5078\"/>\n<polygon fill=\"#000000\" stroke=\"#000000\" points=\"106.8859,-198.3009 98.2075,-192.2234 101.2018,-202.3863 106.8859,-198.3009\"/>\n</g>\n</g>\n</svg>\n"
          },
          "metadata": {
            "tags": []
          },
          "execution_count": 396
        }
      ]
    },
    {
      "cell_type": "code",
      "metadata": {
        "colab": {
          "base_uri": "https://localhost:8080/"
        },
        "id": "j2GAOsAZ2av6",
        "outputId": "9d5a1125-f7e5-413b-9576-87c5348f7b01"
      },
      "source": [
        "def training_loop_optim(n_epochs, optimizer, wp, bp, x, y):\n",
        "\n",
        "  for epoch in range(n_epochs):\n",
        "      # Computes our model's predicted output\n",
        "      yp = model(x, wp, bp)\n",
        "      \n",
        "      # How wrong is our model? That's the error! \n",
        "      loss = loss_fn(yp, y)\n",
        "      loss.backward()\n",
        "\n",
        "      optimizer.step()\n",
        "\n",
        "      if epoch+1 in (1, 2, 3, 4, 5, 10, 100, 500, 1000, 5000, 10000):\n",
        "        print(f'Epoch {epoch+1}, Loss {loss}, wp_grad: {wp.grad}, bp_grad: {bp.grad}')\n",
        "\n",
        "      optimizer.zero_grad()\n",
        "    \n",
        "  return (wp, bp)\n",
        "\n",
        "learning_rate = 1e-4\n",
        "\n",
        "wp = torch.tensor(1, requires_grad=True, dtype=torch.float)\n",
        "bp = torch.tensor(1, requires_grad=True, dtype=torch.float)\n",
        "\n",
        "optimizer = torch.optim.SGD([wp, bp], lr=learning_rate)\n",
        "\n",
        "(wp, bp) = training_loop_optim(n_epochs = 1000, \n",
        "              optimizer = optimizer,\n",
        "              wp = wp,\n",
        "              bp = bp,\n",
        "              x = x,\n",
        "              y = y)"
      ],
      "execution_count": 406,
      "outputs": [
        {
          "output_type": "stream",
          "text": [
            "Epoch 1, Loss 3507.5419921875, wp_grad: -6778.0888671875, bp_grad: -103.46330261230469\n",
            "Epoch 2, Loss 421.4385986328125, wp_grad: -2325.8935546875, bp_grad: -36.33953094482422\n",
            "Epoch 3, Loss 58.04237365722656, wp_grad: -798.1195068359375, bp_grad: -13.305923461914062\n",
            "Epoch 4, Loss 15.251437187194824, wp_grad: -273.86279296875, bp_grad: -5.40187931060791\n",
            "Epoch 5, Loss 10.212542533874512, wp_grad: -93.96290588378906, bp_grad: -2.6895480155944824\n",
            "Epoch 10, Loss 9.539255142211914, wp_grad: -0.4269294738769531, bp_grad: -1.2790272235870361\n",
            "Epoch 100, Loss 9.524724006652832, wp_grad: 0.019517898559570312, bp_grad: -1.2664949893951416\n",
            "Epoch 500, Loss 9.461835861206055, wp_grad: 0.018098831176757812, bp_grad: -1.2410647869110107\n",
            "Epoch 1000, Loss 9.386731147766113, wp_grad: 0.018995285034179688, bp_grad: -1.2099534273147583\n"
          ],
          "name": "stdout"
        }
      ]
    },
    {
      "cell_type": "code",
      "metadata": {
        "colab": {
          "base_uri": "https://localhost:8080/"
        },
        "id": "OiR69Dyt4Iew",
        "outputId": "252322e5-22c4-4e58-cc89-d1df6823c949"
      },
      "source": [
        "learning_rate = 1e-1\n",
        "\n",
        "wp = torch.tensor(1, requires_grad=True, dtype=torch.float)\n",
        "bp = torch.tensor(1, requires_grad=True, dtype=torch.float)\n",
        "\n",
        "optimizer = torch.optim.Adam([wp, bp], lr=learning_rate)\n",
        "\n",
        "(wp, bp) = training_loop_optim(n_epochs = 1000, \n",
        "              optimizer = optimizer,\n",
        "              wp = wp,\n",
        "              bp = bp,\n",
        "              x = x,\n",
        "              y = y)\n",
        "\n"
      ],
      "execution_count": 410,
      "outputs": [
        {
          "output_type": "stream",
          "text": [
            "Epoch 1, Loss 3507.5419921875, wp_grad: -6778.0888671875, bp_grad: -103.46330261230469\n",
            "Epoch 2, Loss 2853.22119140625, wp_grad: -6111.48876953125, bp_grad: -93.3633041381836\n",
            "Epoch 3, Loss 2268.797607421875, wp_grad: -5447.572265625, bp_grad: -83.30396270751953\n",
            "Epoch 4, Loss 1755.1083984375, wp_grad: -4788.6064453125, bp_grad: -73.31962585449219\n",
            "Epoch 5, Loss 1312.361083984375, wp_grad: -4137.28466796875, bp_grad: -63.451107025146484\n",
            "Epoch 10, Loss 105.051025390625, wp_grad: -1125.189453125, bp_grad: -17.812959671020508\n",
            "Epoch 100, Loss 8.379719734191895, wp_grad: -7.128154754638672, bp_grad: -0.7696995735168457\n",
            "Epoch 500, Loss 7.95844841003418, wp_grad: 0.11868667602539062, bp_grad: -0.1201358437538147\n",
            "Epoch 1000, Loss 7.943809986114502, wp_grad: 0.001903533935546875, bp_grad: -0.002255842089653015\n"
          ],
          "name": "stdout"
        }
      ]
    },
    {
      "cell_type": "code",
      "metadata": {
        "colab": {
          "base_uri": "https://localhost:8080/",
          "height": 299
        },
        "id": "HvgcdMHX83Hl",
        "outputId": "a4bddbe2-55c4-485d-eb4e-f9f74e8097fd"
      },
      "source": [
        "plt.plot(x,y)\n",
        "\n",
        "yp = model(x, wp, bp)\n",
        "plt.plot(x, yp.detach().numpy())\n",
        "plt.title(f'Model: y = x*{wp} + {bp}')"
      ],
      "execution_count": 417,
      "outputs": [
        {
          "output_type": "execute_result",
          "data": {
            "text/plain": [
              "Text(0.5, 1.0, 'Model: y = x*1.9941599369049072 + 3.519625663757324')"
            ]
          },
          "metadata": {
            "tags": []
          },
          "execution_count": 417
        },
        {
          "output_type": "display_data",
          "data": {
            "image/png": "[encoded data removed]",
            "text/plain": [
              "<Figure size 432x288 with 1 Axes>"
            ]
          },
          "metadata": {
            "tags": [],
            "needs_background": "light"
          }
        }
      ]
    }
  ]
}