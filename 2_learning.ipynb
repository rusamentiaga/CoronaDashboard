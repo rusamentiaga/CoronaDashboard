{
  "nbformat": 4,
  "nbformat_minor": 0,
  "metadata": {
    "colab": {
      "name": "2_learning.ipynb",
      "provenance": [],
      "authorship_tag": "ABX9TyOc+IWxJdzfHQVhkxuEQai2",
      "include_colab_link": true
    },
    "kernelspec": {
      "name": "python3",
      "display_name": "Python 3"
    },
    "language_info": {
      "name": "python"
    },
    "accelerator": "GPU"
  },
  "cells": [
    {
      "cell_type": "markdown",
      "metadata": {
        "id": "view-in-github",
        "colab_type": "text"
      },
      "source": [
        "<a href=\"https://colab.research.google.com/github/rusamentiaga/CoronaDashboard/blob/master/2_learning.ipynb\" target=\"_parent\"><img src=\"https://colab.research.google.com/assets/colab-badge.svg\" alt=\"Open In Colab\"/></a>"
      ]
    },
    {
      "cell_type": "code",
      "metadata": {
        "colab": {
          "base_uri": "https://localhost:8080/",
          "height": 36
        },
        "id": "liAYc8UFNlOY",
        "outputId": "95b23d71-9380-476b-ae4e-b5a4b638b552"
      },
      "source": [
        "import matplotlib.pyplot as plt\n",
        "import torch\n",
        "torch.version.__version__"
      ],
      "execution_count": 180,
      "outputs": [
        {
          "output_type": "execute_result",
          "data": {
            "application/vnd.google.colaboratory.intrinsic+json": {
              "type": "string"
            },
            "text/plain": [
              "'1.8.0+cu101'"
            ]
          },
          "metadata": {
            "tags": []
          },
          "execution_count": 180
        }
      ]
    },
    {
      "cell_type": "code",
      "metadata": {
        "colab": {
          "base_uri": "https://localhost:8080/"
        },
        "id": "L1woY6pkNr4B",
        "outputId": "7f4ede4b-8b83-4c12-a0d3-ed3f92a6f7c4"
      },
      "source": [
        "torch.cuda.is_available()"
      ],
      "execution_count": 181,
      "outputs": [
        {
          "output_type": "execute_result",
          "data": {
            "text/plain": [
              "True"
            ]
          },
          "metadata": {
            "tags": []
          },
          "execution_count": 181
        }
      ]
    },
    {
      "cell_type": "code",
      "metadata": {
        "colab": {
          "base_uri": "https://localhost:8080/",
          "height": 283
        },
        "id": "wvu5JHu5OW5k",
        "outputId": "d3a77ba0-a48e-48b1-9872-8c3046ac08fa"
      },
      "source": [
        "x = torch.tensor(range(100))\n",
        "W = 2\n",
        "B = 3\n",
        "y = W*x + B\n",
        "y = y + 10*(torch.rand(x.shape[0]) - 0.5)\n",
        "plt.plot(x,y)"
      ],
      "execution_count": 182,
      "outputs": [
        {
          "output_type": "execute_result",
          "data": {
            "text/plain": [
              "[<matplotlib.lines.Line2D at 0x7fd23d8d9b10>]"
            ]
          },
          "metadata": {
            "tags": []
          },
          "execution_count": 182
        },
        {
          "output_type": "display_data",
          "data": {
            "image/png": "[encoded data removed]",
            "text/plain": [
              "<Figure size 432x288 with 1 Axes>"
            ]
          },
          "metadata": {
            "tags": [],
            "needs_background": "light"
          }
        }
      ]
    },
    {
      "cell_type": "code",
      "metadata": {
        "id": "ykMGY2H1PC3G"
      },
      "source": [
        "def model(x, w, b):\n",
        "  return w * x + b"
      ],
      "execution_count": 183,
      "outputs": []
    },
    {
      "cell_type": "code",
      "metadata": {
        "colab": {
          "base_uri": "https://localhost:8080/",
          "height": 283
        },
        "id": "9qDCg5sOPIgD",
        "outputId": "f116d59a-2e36-4d71-e935-ce7b87eb0c0d"
      },
      "source": [
        "plt.plot(x,y)\n",
        "\n",
        "yp = model(x, W, B)\n",
        "plt.plot(x,yp)"
      ],
      "execution_count": 184,
      "outputs": [
        {
          "output_type": "execute_result",
          "data": {
            "text/plain": [
              "[<matplotlib.lines.Line2D at 0x7fd23d853090>]"
            ]
          },
          "metadata": {
            "tags": []
          },
          "execution_count": 184
        },
        {
          "output_type": "display_data",
          "data": {
            "image/png": "[encoded data removed]",
            "text/plain": [
              "<Figure size 432x288 with 1 Axes>"
            ]
          },
          "metadata": {
            "tags": [],
            "needs_background": "light"
          }
        }
      ]
    },
    {
      "cell_type": "code",
      "metadata": {
        "id": "FImDcO4aPQbp"
      },
      "source": [
        "def loss_fn(yp, y):\n",
        "  squared_diffs = (yp - y)**2\n",
        "  return squared_diffs.mean()"
      ],
      "execution_count": 185,
      "outputs": []
    },
    {
      "cell_type": "code",
      "metadata": {
        "colab": {
          "base_uri": "https://localhost:8080/"
        },
        "id": "mgYTnjq-PbUl",
        "outputId": "bca97931-7a1d-4885-9037-510e4befe7bf"
      },
      "source": [
        "loss_fn(yp, y)"
      ],
      "execution_count": 186,
      "outputs": [
        {
          "output_type": "execute_result",
          "data": {
            "text/plain": [
              "tensor(8.9577)"
            ]
          },
          "metadata": {
            "tags": []
          },
          "execution_count": 186
        }
      ]
    },
    {
      "cell_type": "code",
      "metadata": {
        "colab": {
          "base_uri": "https://localhost:8080/"
        },
        "id": "tOr6U6uDPnGW",
        "outputId": "8eb83d70-f8b4-4d51-829d-6c3eab32be2d"
      },
      "source": [
        "y3 = model(x, W, B + .3)\n",
        "loss_fn(y3, y)"
      ],
      "execution_count": 187,
      "outputs": [
        {
          "output_type": "execute_result",
          "data": {
            "text/plain": [
              "tensor(8.9628)"
            ]
          },
          "metadata": {
            "tags": []
          },
          "execution_count": 187
        }
      ]
    },
    {
      "cell_type": "markdown",
      "metadata": {
        "id": "FIlzlQ_wSV8t"
      },
      "source": [
        "*   y = wx + b\n",
        "*   dy/dw = x\n",
        "*   dy/db = 1\n",
        "*   dloss/dw = dloss/dy * dy/dw\n",
        "*   dloss/db = dloss/dy * dy/db\n",
        "\n",
        "\n"
      ]
    },
    {
      "cell_type": "code",
      "metadata": {
        "id": "r-qU7ytFRnWL"
      },
      "source": [
        "def dy_dw(x, w, b):\n",
        "  return x\n",
        "\n",
        "def dy_db(x, w, b):\n",
        "  return 1.0\n",
        "\n",
        "def dloss_fn(yp, y):\n",
        "  dsq_diffs = 2 * (yp - y) / yp.size(0)\n",
        "  return dsq_diffs\n",
        "\n",
        "def grad_fn(x, y, yp, w, b):\n",
        "  dloss_dy = dloss_fn(yp, y)\n",
        "  dloss_dw = dloss_dy * dmodel_dw(x, w, b)\n",
        "  dloss_db = dloss_dy * dmodel_db(x, w, b)\n",
        "  return (dloss_dw.sum(), dloss_db.sum())"
      ],
      "execution_count": 206,
      "outputs": []
    },
    {
      "cell_type": "code",
      "metadata": {
        "id": "aFkQyAanQxHn"
      },
      "source": [
        "def training_loop(n_epochs, learning_rate, wp, bp, x, y):\n",
        "\n",
        "  for epoch in range(n_epochs):\n",
        "      # Computes our model's predicted output\n",
        "      yp = model(x, wp, bp)\n",
        "      \n",
        "      # How wrong is our model? That's the error! \n",
        "      loss = loss_fn(yp, y)\n",
        "\n",
        "      (wp_grad, bp_grad) = grad_fn(x, y, yp, wp, bp)\n",
        "    \n",
        "      # Updates parameters using gradients and the learning rate\n",
        "      wp = wp - learning_rate * wp_grad\n",
        "      bp = bp - learning_rate * bp_grad\n",
        "\n",
        "      if epoch+1 in (1, 2, 3, 4, 5, 10, 100, 500, 1000, 5000, 10000):\n",
        "        print(f'Epoch {epoch+1}, Loss {loss}, wp_grad: {wp_grad}, bp_grad: {bp_grad}')\n",
        "    \n",
        "  return (wp, bp)"
      ],
      "execution_count": 211,
      "outputs": []
    },
    {
      "cell_type": "code",
      "metadata": {
        "colab": {
          "base_uri": "https://localhost:8080/"
        },
        "id": "xwGpwYHzp0Me",
        "outputId": "32f6acb1-301b-4ac5-91c3-d1c0c5c933fc"
      },
      "source": [
        "training_loop(n_epochs = 1000, \n",
        "              learning_rate = 1e-2,\n",
        "              wp = 1,\n",
        "              bp = 1,\n",
        "              x = x,\n",
        "              y = y)"
      ],
      "execution_count": 223,
      "outputs": [
        {
          "output_type": "stream",
          "text": [
            "Epoch 1, Loss 3525.310302734375, wp_grad: -6795.2861328125, bp_grad: -103.28299713134766\n",
            "Epoch 2, Loss 14710468.0, wp_grad: 439553.375, bp_grad: 6626.115234375\n",
            "Epoch 3, Loss 61550612480.0, wp_grad: -28432480.0, bp_grad: -428664.28125\n",
            "Epoch 4, Loss 257536338952192.0, wp_grad: 1839152640.0, bp_grad: 27728060.0\n",
            "Epoch 5, Loss 1.0775679183062303e+18, wp_grad: -118965444608.0, bp_grad: -1793587584.0\n",
            "Epoch 10, Loss 1.3818960260105483e+36, wp_grad: 1.3472127738748653e+20, bp_grad: 2.0311309910865347e+18\n",
            "Epoch 100, Loss nan, wp_grad: nan, bp_grad: nan\n",
            "Epoch 500, Loss nan, wp_grad: nan, bp_grad: nan\n",
            "Epoch 1000, Loss nan, wp_grad: nan, bp_grad: nan\n"
          ],
          "name": "stdout"
        },
        {
          "output_type": "execute_result",
          "data": {
            "text/plain": [
              "(tensor(nan), tensor(nan))"
            ]
          },
          "metadata": {
            "tags": []
          },
          "execution_count": 223
        }
      ]
    },
    {
      "cell_type": "code",
      "metadata": {
        "colab": {
          "base_uri": "https://localhost:8080/"
        },
        "id": "3LIctvJfoapr",
        "outputId": "a0cf1c97-a66f-4e84-9621-cfaacccbe8c8"
      },
      "source": [
        "(wp, bp) = training_loop(n_epochs = 10000, \n",
        "              learning_rate = 1e-4,\n",
        "              wp = 1,\n",
        "              bp = 1,\n",
        "              x = x,\n",
        "              y = y)"
      ],
      "execution_count": 226,
      "outputs": [
        {
          "output_type": "stream",
          "text": [
            "Epoch 1, Loss 3525.310302734375, wp_grad: -6795.2861328125, bp_grad: -103.28299713134766\n",
            "Epoch 2, Loss 423.53289794921875, wp_grad: -2331.79931640625, bp_grad: -35.989013671875\n",
            "Epoch 3, Loss 58.29096221923828, wp_grad: -800.150634765625, bp_grad: -12.897002220153809\n",
            "Epoch 4, Loss 15.282767295837402, wp_grad: -274.56427001953125, bp_grad: -4.972934246063232\n",
            "Epoch 5, Loss 10.218374252319336, wp_grad: -94.20850372314453, bp_grad: -2.2537522315979004\n",
            "Epoch 10, Loss 9.542113304138184, wp_grad: -0.4363059997558594, bp_grad: -0.83977872133255\n",
            "Epoch 100, Loss 9.53588581085205, wp_grad: 0.0136260986328125, bp_grad: -0.8292016983032227\n",
            "Epoch 500, Loss 9.508918762207031, wp_grad: 0.011615753173828125, bp_grad: -0.8125641345977783\n",
            "Epoch 1000, Loss 9.476723670959473, wp_grad: 0.011798858642578125, bp_grad: -0.7922028303146362\n",
            "Epoch 5000, Loss 9.270343780517578, wp_grad: 0.01035308837890625, bp_grad: -0.6466619968414307\n",
            "Epoch 10000, Loss 9.106322288513184, wp_grad: 0.0068359375, bp_grad: -0.5017690658569336\n"
          ],
          "name": "stdout"
        }
      ]
    },
    {
      "cell_type": "code",
      "metadata": {
        "colab": {
          "base_uri": "https://localhost:8080/",
          "height": 283
        },
        "id": "2TICsyVve0T9",
        "outputId": "d99163ce-2131-46d5-f260-f59b78806dd1"
      },
      "source": [
        "plt.plot(x,y)\n",
        "\n",
        "yp = model(x, wp, bp)\n",
        "plt.plot(x, yp)"
      ],
      "execution_count": 227,
      "outputs": [
        {
          "output_type": "execute_result",
          "data": {
            "text/plain": [
              "[<matplotlib.lines.Line2D at 0x7fd23d54d3d0>]"
            ]
          },
          "metadata": {
            "tags": []
          },
          "execution_count": 227
        },
        {
          "output_type": "display_data",
          "data": {
            "image/png": "[encoded data removed]",
            "text/plain": [
              "<Figure size 432x288 with 1 Axes>"
            ]
          },
          "metadata": {
            "tags": [],
            "needs_background": "light"
          }
        }
      ]
    },
    {
      "cell_type": "code",
      "metadata": {
        "colab": {
          "base_uri": "https://localhost:8080/"
        },
        "id": "A8L4FKLggymY",
        "outputId": "087d001f-5fa9-4841-9056-9dbe2289f732"
      },
      "source": [
        "training_loop(n_epochs = 1000, \n",
        "              learning_rate = 1e-2,\n",
        "              wp = 1,\n",
        "              bp = 1,\n",
        "              x = x*0.1,\n",
        "              y = y)"
      ],
      "execution_count": 241,
      "outputs": [
        {
          "output_type": "stream",
          "text": [
            "Epoch 1, Loss 12300.7021484375, wp_grad: -1270.55859375, bp_grad: -192.3830108642578\n",
            "Epoch 2, Loss 1333.7064208984375, wp_grad: -417.1369323730469, bp_grad: -62.75004577636719\n",
            "Epoch 3, Loss 151.9454345703125, wp_grad: -136.9907989501953, bp_grad: -20.198482513427734\n",
            "Epoch 4, Loss 24.600749969482422, wp_grad: -45.02935028076172, bp_grad: -6.232430458068848\n",
            "Epoch 5, Loss 10.875382423400879, wp_grad: -14.841585159301758, bp_grad: -1.6498804092407227\n",
            "Epoch 10, Loss 9.20076847076416, wp_grad: -0.14387202262878418, bp_grad: 0.5678740739822388\n",
            "Epoch 100, Loss 8.9981050491333, wp_grad: -0.05587482452392578, bp_grad: 0.3684151768684387\n",
            "Epoch 500, Loss 8.860799789428711, wp_grad: -0.007681846618652344, bp_grad: 0.05037379264831543\n",
            "Epoch 1000, Loss 8.858201026916504, wp_grad: -0.0006377696990966797, bp_grad: 0.004191458225250244\n"
          ],
          "name": "stdout"
        },
        {
          "output_type": "execute_result",
          "data": {
            "text/plain": [
              "(tensor(20.0964), tensor(2.6664))"
            ]
          },
          "metadata": {
            "tags": []
          },
          "execution_count": 241
        }
      ]
    },
    {
      "cell_type": "code",
      "metadata": {
        "colab": {
          "base_uri": "https://localhost:8080/"
        },
        "id": "F-sPfbgFrkBL",
        "outputId": "1876f43c-16a3-4d0e-d764-e15bf7ea8083"
      },
      "source": [
        "from sklearn.linear_model import LinearRegression\n",
        "import numpy\n",
        "linr = LinearRegression()\n",
        "xnp = x.numpy().reshape((-1, 1))\n",
        "ynp = y.numpy()\n",
        "linr.fit(xnp, ynp)\n",
        "print(linr.intercept_, linr.coef_[0])\n",
        "\n",
        "yp = model(x, linr.coef_[0], linr.intercept_)\n",
        "     \n",
        "# How wrong is our model? That's the error! \n",
        "loss = loss_fn(yp, y)\n",
        "\n",
        "print(loss)"
      ],
      "execution_count": 252,
      "outputs": [
        {
          "output_type": "stream",
          "text": [
            "2.6580026777663477 2.0097676468696686\n",
            "tensor(8.8582)\n"
          ],
          "name": "stdout"
        }
      ]
    },
    {
      "cell_type": "code",
      "metadata": {
        "colab": {
          "base_uri": "https://localhost:8080/"
        },
        "id": "It6c0WdXr21M",
        "outputId": "4c24532c-46f4-489a-95ac-cd5e6189f1b9"
      },
      "source": [
        "y.numpy()\n"
      ],
      "execution_count": 246,
      "outputs": [
        {
          "output_type": "execute_result",
          "data": {
            "text/plain": [
              "array([  6.842782 ,   1.8297791,  10.23668  ,   7.50888  ,  10.456456 ,\n",
              "        15.546988 ,  17.334784 ,  13.251529 ,  14.482702 ,  23.625095 ,\n",
              "        24.497028 ,  26.724127 ,  23.275301 ,  29.287611 ,  32.208347 ,\n",
              "        32.477135 ,  31.224327 ,  41.037804 ,  42.117535 ,  41.438034 ,\n",
              "        43.801003 ,  47.374527 ,  44.5306   ,  44.718582 ,  51.149837 ,\n",
              "        51.22189  ,  56.7646   ,  52.326454 ,  57.936428 ,  57.042522 ,\n",
              "        66.64189  ,  66.69882  ,  65.8369   ,  65.86917  ,  66.8682   ,\n",
              "        73.91664  ,  70.82315  ,  79.150894 ,  74.40966  ,  84.06166  ,\n",
              "        82.85756  ,  85.77603  ,  90.60768  ,  93.96954  ,  95.68407  ,\n",
              "        88.29765  ,  99.073044 ,  94.68254  ,  99.57707  , 103.99653  ,\n",
              "       103.92618  , 105.75916  , 106.29568  , 107.21233  , 108.42995  ,\n",
              "       110.44249  , 119.58943  , 113.064064 , 116.63016  , 118.76877  ,\n",
              "       118.418686 , 129.58627  , 126.26913  , 128.20772  , 133.82349  ,\n",
              "       135.88791  , 136.18428  , 139.45053  , 142.35336  , 138.7571   ,\n",
              "       140.58032  , 140.15125  , 148.15181  , 144.5449   , 148.99005  ,\n",
              "       157.80142  , 154.5474   , 158.18625  , 163.95555  , 158.5053   ,\n",
              "       163.82265  , 165.40546  , 171.67873  , 167.89114  , 174.911    ,\n",
              "       174.54848  , 178.12798  , 174.0257   , 180.47237  , 183.22176  ,\n",
              "       183.81937  , 181.95834  , 186.76169  , 193.02213  , 188.09624  ,\n",
              "       188.9182   , 199.67955  , 193.10631  , 203.82802  , 205.31604  ],\n",
              "      dtype=float32)"
            ]
          },
          "metadata": {
            "tags": []
          },
          "execution_count": 246
        }
      ]
    }
  ]
}