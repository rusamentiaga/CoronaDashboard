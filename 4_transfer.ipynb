{
  "nbformat": 4,
  "nbformat_minor": 0,
  "metadata": {
    "colab": {
      "name": "4_transfer.ipynb",
      "provenance": [],
      "collapsed_sections": [],
      "toc_visible": true,
      "authorship_tag": "ABX9TyPmjZMEFYMIh5xVBrcMpDvu",
      "include_colab_link": true
    },
    "kernelspec": {
      "name": "python3",
      "display_name": "Python 3"
    },
    "language_info": {
      "name": "python"
    },
    "accelerator": "GPU"
  },
  "cells": [
    {
      "cell_type": "markdown",
      "metadata": {
        "id": "view-in-github",
        "colab_type": "text"
      },
      "source": [
        "<a href=\"https://colab.research.google.com/github/rusamentiaga/CoronaDashboard/blob/master/4_transfer.ipynb\" target=\"_parent\"><img src=\"https://colab.research.google.com/assets/colab-badge.svg\" alt=\"Open In Colab\"/></a>"
      ]
    },
    {
      "cell_type": "markdown",
      "metadata": {
        "id": "ik1U4OS_xQDf"
      },
      "source": [
        "# Modelos y transfer learning"
      ]
    },
    {
      "cell_type": "markdown",
      "metadata": {
        "id": "TXb8_4I1xT3r"
      },
      "source": [
        "La ventaja de los modelos de aprendizaje automático es que no es necesario crearlos desde cero, se puede partir de modelos prediseñados que se adapten a nuestro problema. Además, se puede partir de modelos pre-entrenados, donde solamente se entrenen capas específicas para adaptarlas a un problema concreto"
      ]
    },
    {
      "cell_type": "markdown",
      "metadata": {
        "id": "PlL4IwoYxyO2"
      },
      "source": [
        "# Dataset"
      ]
    },
    {
      "cell_type": "markdown",
      "metadata": {
        "id": "GqglGS-Lx0aY"
      },
      "source": [
        "Para demostrar el funcionamiento del transfer learning se va a utilizar un dataset disponible en torchvision: Cifar-10."
      ]
    },
    {
      "cell_type": "markdown",
      "metadata": {
        "id": "siXlJnq7x_Ls"
      },
      "source": [
        "Se cargan los paquetes."
      ]
    },
    {
      "cell_type": "code",
      "metadata": {
        "id": "4gJAEtYmgCsM"
      },
      "source": [
        "import torch\n",
        "import torchvision\n",
        "import torchvision.transforms as transforms"
      ],
      "execution_count": 1,
      "outputs": []
    },
    {
      "cell_type": "markdown",
      "metadata": {
        "id": "VX2AYYlbyB5l"
      },
      "source": [
        "Se configura el dispositivo"
      ]
    },
    {
      "cell_type": "code",
      "metadata": {
        "colab": {
          "base_uri": "https://localhost:8080/"
        },
        "id": "o8jLcLAqgLWB",
        "outputId": "707abf3a-0b74-4ea2-ac3d-cadec822f71c"
      },
      "source": [
        "device = torch.device('cuda' if torch.cuda.is_available() else 'cpu')\n",
        "device"
      ],
      "execution_count": 2,
      "outputs": [
        {
          "output_type": "execute_result",
          "data": {
            "text/plain": [
              "device(type='cuda')"
            ]
          },
          "metadata": {
            "tags": []
          },
          "execution_count": 2
        }
      ]
    },
    {
      "cell_type": "markdown",
      "metadata": {
        "id": "wBXVPwAsyE_k"
      },
      "source": [
        "Se define una transformación para adaptar el dataset al tamaño de entrada que espera la red. Además, se normaliza."
      ]
    },
    {
      "cell_type": "code",
      "metadata": {
        "id": "7w73OIOPgkbu"
      },
      "source": [
        "transform = transforms.Compose([\n",
        "    transforms.Resize(256),\n",
        "    transforms.CenterCrop(224),\n",
        "    transforms.ToTensor(),\n",
        "    transforms.Normalize(mean=[0.485, 0.456, 0.406], std=[0.229, 0.224, 0.225]),\n",
        "])"
      ],
      "execution_count": 3,
      "outputs": []
    },
    {
      "cell_type": "markdown",
      "metadata": {
        "id": "pgqV6S9TyMdj"
      },
      "source": [
        "Se descarga el dataset y se configuran los cargadores."
      ]
    },
    {
      "cell_type": "code",
      "metadata": {
        "colab": {
          "base_uri": "https://localhost:8080/"
        },
        "id": "LrpDm6PXgry7",
        "outputId": "f81598ea-662b-49e4-f319-d362b1e942b5"
      },
      "source": [
        "batch_size = 4\n",
        "\n",
        "#Downloading training data\n",
        "train_data = torchvision.datasets.CIFAR10(root='./data', train=True, download=True, transform=transform)\n",
        "\n",
        "trainloader = torch.utils.data.DataLoader(train_data, batch_size=batch_size, shuffle=True, num_workers=2)\n",
        "\n",
        "#Downloading test data\n",
        "test_data = torchvision.datasets.CIFAR10(root='./data', train=False, download=True, transform=transform)\n",
        "\n",
        "testloader = torch.utils.data.DataLoader(test_data, batch_size=batch_size, shuffle=False, num_workers=2)\n",
        "\n",
        "#Class labels\n",
        "\n",
        "classes = ('Airplane', 'Car', 'Bird', 'Cat', 'Deer', 'Dog', 'Frog', 'Horse', 'Ship', 'Truck')\n",
        "num_classes = len(classes)\n"
      ],
      "execution_count": 4,
      "outputs": [
        {
          "output_type": "stream",
          "text": [
            "Files already downloaded and verified\n",
            "Files already downloaded and verified\n"
          ],
          "name": "stdout"
        }
      ]
    },
    {
      "cell_type": "markdown",
      "metadata": {
        "id": "xXGRuMURyRrZ"
      },
      "source": [
        "Se comprueba que los ficheros están en disco."
      ]
    },
    {
      "cell_type": "code",
      "metadata": {
        "colab": {
          "base_uri": "https://localhost:8080/"
        },
        "id": "ayQ9ANMFhBuY",
        "outputId": "dee81741-46a4-47eb-ccce-5fc11a554b97"
      },
      "source": [
        "!ls data/cifar-10-batches-py"
      ],
      "execution_count": 5,
      "outputs": [
        {
          "output_type": "stream",
          "text": [
            "batches.meta  data_batch_2  data_batch_4  readme.html\n",
            "data_batch_1  data_batch_3  data_batch_5  test_batch\n"
          ],
          "name": "stdout"
        }
      ]
    },
    {
      "cell_type": "markdown",
      "metadata": {
        "id": "oxjcVyllyUtp"
      },
      "source": [
        "Se puede ver el tamaño de cada batch."
      ]
    },
    {
      "cell_type": "code",
      "metadata": {
        "colab": {
          "base_uri": "https://localhost:8080/"
        },
        "id": "gpMKxJNHhL3O",
        "outputId": "a44805eb-33f5-483f-ccd3-fb127a726609"
      },
      "source": [
        "dataiter = iter(trainloader)\n",
        "images, labels = dataiter.next()\n",
        "images.shape\n"
      ],
      "execution_count": 6,
      "outputs": [
        {
          "output_type": "execute_result",
          "data": {
            "text/plain": [
              "torch.Size([4, 3, 224, 224])"
            ]
          },
          "metadata": {
            "tags": []
          },
          "execution_count": 6
        }
      ]
    },
    {
      "cell_type": "markdown",
      "metadata": {
        "id": "qe2CjUmTyYHH"
      },
      "source": [
        "Se visualiza un batch. El dataset contiene imágenes a baja resolución de 10 clases."
      ]
    },
    {
      "cell_type": "code",
      "metadata": {
        "colab": {
          "base_uri": "https://localhost:8080/",
          "height": 185
        },
        "id": "i1951BPJhWME",
        "outputId": "037f90fc-8cf0-40da-f05a-fb30b1f54843"
      },
      "source": [
        "import matplotlib.pyplot as plt\n",
        "\n",
        "grid = torchvision.utils.make_grid(images)\n",
        "grid.shape\n",
        "\n",
        "# unnormalize\n",
        "grid = grid / 2 + 0.5     \n",
        "plt.imshow(grid.permute(1,2,0))\n",
        "\n",
        "plt.title(' '.join('%5s' % classes[labels[j]] for j in range(4)))"
      ],
      "execution_count": 7,
      "outputs": [
        {
          "output_type": "stream",
          "text": [
            "Clipping input data to the valid range for imshow with RGB data ([0..1] for floats or [0..255] for integers).\n"
          ],
          "name": "stderr"
        },
        {
          "output_type": "execute_result",
          "data": {
            "text/plain": [
              "Text(0.5, 1.0, ' Frog  Frog   Cat Truck')"
            ]
          },
          "metadata": {
            "tags": []
          },
          "execution_count": 7
        },
        {
          "output_type": "display_data",
          "data": {
            "image/png": "[encoded data removed]",
            "text/plain": [
              "<Figure size 432x288 with 1 Axes>"
            ]
          },
          "metadata": {
            "tags": [],
            "needs_background": "light"
          }
        }
      ]
    },
    {
      "cell_type": "markdown",
      "metadata": {
        "id": "YtmHj4aMtts5"
      },
      "source": [
        "# Partiendo de un modelo prediseñado\n",
        "\n",
        "En este caso se va a partir de [AlexNet](https://github.com/pytorch/vision/blob/master/torchvision/models/alexnet.py). Se puede descargar con los parámetros entrenados en [ImageNet](https://www.google.com/search?q=Imagenet).\n",
        "\n",
        "En PyTorch hay disponibles más [modelos](https://pytorch.org/vision/stable/models.html).\n"
      ]
    },
    {
      "cell_type": "code",
      "metadata": {
        "colab": {
          "base_uri": "https://localhost:8080/"
        },
        "id": "vlYff843iYiK",
        "outputId": "1d4aad4a-50a8-4a6b-ef63-77c0aa728f3a"
      },
      "source": [
        "alexnet = torch.hub.load('pytorch/vision:v0.9.0', 'alexnet', pretrained=True)\n",
        "alexnet.eval()"
      ],
      "execution_count": 24,
      "outputs": [
        {
          "output_type": "stream",
          "text": [
            "Using cache found in /root/.cache/torch/hub/pytorch_vision_v0.9.0\n"
          ],
          "name": "stderr"
        },
        {
          "output_type": "execute_result",
          "data": {
            "text/plain": [
              "AlexNet(\n",
              "  (features): Sequential(\n",
              "    (0): Conv2d(3, 64, kernel_size=(11, 11), stride=(4, 4), padding=(2, 2))\n",
              "    (1): ReLU(inplace=True)\n",
              "    (2): MaxPool2d(kernel_size=3, stride=2, padding=0, dilation=1, ceil_mode=False)\n",
              "    (3): Conv2d(64, 192, kernel_size=(5, 5), stride=(1, 1), padding=(2, 2))\n",
              "    (4): ReLU(inplace=True)\n",
              "    (5): MaxPool2d(kernel_size=3, stride=2, padding=0, dilation=1, ceil_mode=False)\n",
              "    (6): Conv2d(192, 384, kernel_size=(3, 3), stride=(1, 1), padding=(1, 1))\n",
              "    (7): ReLU(inplace=True)\n",
              "    (8): Conv2d(384, 256, kernel_size=(3, 3), stride=(1, 1), padding=(1, 1))\n",
              "    (9): ReLU(inplace=True)\n",
              "    (10): Conv2d(256, 256, kernel_size=(3, 3), stride=(1, 1), padding=(1, 1))\n",
              "    (11): ReLU(inplace=True)\n",
              "    (12): MaxPool2d(kernel_size=3, stride=2, padding=0, dilation=1, ceil_mode=False)\n",
              "  )\n",
              "  (avgpool): AdaptiveAvgPool2d(output_size=(6, 6))\n",
              "  (classifier): Sequential(\n",
              "    (0): Dropout(p=0.5, inplace=False)\n",
              "    (1): Linear(in_features=9216, out_features=4096, bias=True)\n",
              "    (2): ReLU(inplace=True)\n",
              "    (3): Dropout(p=0.5, inplace=False)\n",
              "    (4): Linear(in_features=4096, out_features=4096, bias=True)\n",
              "    (5): ReLU(inplace=True)\n",
              "    (6): Linear(in_features=4096, out_features=1000, bias=True)\n",
              "  )\n",
              ")"
            ]
          },
          "metadata": {
            "tags": []
          },
          "execution_count": 24
        }
      ]
    },
    {
      "cell_type": "markdown",
      "metadata": {
        "id": "wsbnva9liybP"
      },
      "source": [
        "Para adaptarlo al problema concreto hay que cambiar la última capa."
      ]
    },
    {
      "cell_type": "code",
      "metadata": {
        "colab": {
          "base_uri": "https://localhost:8080/"
        },
        "id": "5y9TMAeZi-Sz",
        "outputId": "841ad95b-f6cb-4187-a1b0-1ca13ce7551c"
      },
      "source": [
        "#Updating the third and the last classifier that is the output layer of the network. Make sure to have 10 output nodes if we are going to get 10 class labels through our model.\n",
        "alexnet.classifier[6] = torch.nn.Linear(4096,num_classes)\n",
        "alexnet.eval()"
      ],
      "execution_count": 25,
      "outputs": [
        {
          "output_type": "execute_result",
          "data": {
            "text/plain": [
              "AlexNet(\n",
              "  (features): Sequential(\n",
              "    (0): Conv2d(3, 64, kernel_size=(11, 11), stride=(4, 4), padding=(2, 2))\n",
              "    (1): ReLU(inplace=True)\n",
              "    (2): MaxPool2d(kernel_size=3, stride=2, padding=0, dilation=1, ceil_mode=False)\n",
              "    (3): Conv2d(64, 192, kernel_size=(5, 5), stride=(1, 1), padding=(2, 2))\n",
              "    (4): ReLU(inplace=True)\n",
              "    (5): MaxPool2d(kernel_size=3, stride=2, padding=0, dilation=1, ceil_mode=False)\n",
              "    (6): Conv2d(192, 384, kernel_size=(3, 3), stride=(1, 1), padding=(1, 1))\n",
              "    (7): ReLU(inplace=True)\n",
              "    (8): Conv2d(384, 256, kernel_size=(3, 3), stride=(1, 1), padding=(1, 1))\n",
              "    (9): ReLU(inplace=True)\n",
              "    (10): Conv2d(256, 256, kernel_size=(3, 3), stride=(1, 1), padding=(1, 1))\n",
              "    (11): ReLU(inplace=True)\n",
              "    (12): MaxPool2d(kernel_size=3, stride=2, padding=0, dilation=1, ceil_mode=False)\n",
              "  )\n",
              "  (avgpool): AdaptiveAvgPool2d(output_size=(6, 6))\n",
              "  (classifier): Sequential(\n",
              "    (0): Dropout(p=0.5, inplace=False)\n",
              "    (1): Linear(in_features=9216, out_features=4096, bias=True)\n",
              "    (2): ReLU(inplace=True)\n",
              "    (3): Dropout(p=0.5, inplace=False)\n",
              "    (4): Linear(in_features=4096, out_features=4096, bias=True)\n",
              "    (5): ReLU(inplace=True)\n",
              "    (6): Linear(in_features=4096, out_features=10, bias=True)\n",
              "  )\n",
              ")"
            ]
          },
          "metadata": {
            "tags": []
          },
          "execution_count": 25
        }
      ]
    },
    {
      "cell_type": "markdown",
      "metadata": {
        "id": "GLNH28MV0C1n"
      },
      "source": [
        "Se define la función de entrenamiento."
      ]
    },
    {
      "cell_type": "code",
      "metadata": {
        "id": "nlbWPVdKj7vS"
      },
      "source": [
        "import time\n",
        "\n",
        "def train_model(model, criterion, optimizer):\n",
        "  # Train the model\n",
        "  total_step = len(trainloader)\n",
        "  for epoch in range(num_epochs):\n",
        "      start = time.time()\n",
        "      for i, (images, labels) in enumerate(trainloader):\n",
        "          images = images.to(device)\n",
        "          labels = labels.to(device)\n",
        "          \n",
        "          # Forward pass\n",
        "          outputs = model(images)\n",
        "          loss = criterion(outputs, labels)\n",
        "          \n",
        "          # Backward and optimize\n",
        "          optimizer.zero_grad()\n",
        "          loss.backward()\n",
        "          optimizer.step()\n",
        "\n",
        "          if (i+1) % 100 == 0:\n",
        "              end = time.time()\n",
        "              print (f'Epoch [{epoch+1}/{num_epochs}], Step [{i+1}/{total_step}], Loss: {loss}, Time: {end - start}')\n",
        "              start = time.time()"
      ],
      "execution_count": 26,
      "outputs": []
    },
    {
      "cell_type": "markdown",
      "metadata": {
        "id": "LjvyC0160HTm"
      },
      "source": [
        "Se define la función de evaluación."
      ]
    },
    {
      "cell_type": "code",
      "metadata": {
        "id": "t55PJIOErOJT"
      },
      "source": [
        "def eval_model(model):\n",
        "  model.eval()  # eval mode (batchnorm uses moving mean/variance instead of mini-batch mean/variance)\n",
        "  with torch.no_grad():\n",
        "      correct = 0\n",
        "      total = 0\n",
        "      for images, labels in testloader:\n",
        "          images = images.to(device)\n",
        "          labels = labels.to(device)\n",
        "          outputs = model(images)\n",
        "          _, predicted = torch.max(outputs.data, 1)\n",
        "          total += labels.size(0)\n",
        "          correct += (predicted == labels).sum().item()\n",
        "\n",
        "      print('Test Accuracy of the model using the test images: {} %'.format(100 * correct / total)) "
      ],
      "execution_count": 27,
      "outputs": []
    },
    {
      "cell_type": "markdown",
      "metadata": {
        "id": "IynG0raO0Kc_"
      },
      "source": [
        "Se realiza el entrenamiento del modelo con una determinada configuración"
      ]
    },
    {
      "cell_type": "code",
      "metadata": {
        "colab": {
          "base_uri": "https://localhost:8080/"
        },
        "id": "Wj3DpcDzkJeX",
        "outputId": "06183c94-9c54-4326-dae8-082b5293f5c2"
      },
      "source": [
        "# Hyperparameters\n",
        "num_epochs = 1\n",
        "learning_rate = 0.001\n",
        "momentum = 0.9\n",
        "\n",
        "# Model\n",
        "model = alexnet.to(device)\n",
        "\n",
        "# Loss and optimizer\n",
        "criterion = torch.nn.CrossEntropyLoss()\n",
        "optimizer = torch.optim.SGD(model.parameters(), lr=learning_rate, momentum=momentum)\n",
        "\n",
        "# Train\n",
        "train_model(model, criterion, optimizer)\n",
        "\n",
        "# Eval\n",
        "eval_model(model)"
      ],
      "execution_count": 28,
      "outputs": [
        {
          "output_type": "stream",
          "text": [
            "Epoch [1/1], Step [100/12500], Loss: 1.9646059274673462, Time: 3.9820849895477295\n",
            "Epoch [1/1], Step [200/12500], Loss: 1.1386044025421143, Time: 3.8279383182525635\n",
            "Epoch [1/1], Step [300/12500], Loss: 1.3463443517684937, Time: 3.8277385234832764\n",
            "Epoch [1/1], Step [400/12500], Loss: 0.5709851980209351, Time: 3.8279976844787598\n",
            "Epoch [1/1], Step [500/12500], Loss: 0.6927762627601624, Time: 3.833512544631958\n",
            "Epoch [1/1], Step [600/12500], Loss: 1.6597859859466553, Time: 3.8321478366851807\n",
            "Epoch [1/1], Step [700/12500], Loss: 1.2653231620788574, Time: 3.830467939376831\n",
            "Epoch [1/1], Step [800/12500], Loss: 0.8349275588989258, Time: 3.821237802505493\n",
            "Epoch [1/1], Step [900/12500], Loss: 1.2994240522384644, Time: 3.8195557594299316\n",
            "Epoch [1/1], Step [1000/12500], Loss: 1.322268009185791, Time: 3.827430248260498\n",
            "Epoch [1/1], Step [1100/12500], Loss: 1.5820839405059814, Time: 3.8165054321289062\n",
            "Epoch [1/1], Step [1200/12500], Loss: 1.6329212188720703, Time: 3.818356513977051\n",
            "Epoch [1/1], Step [1300/12500], Loss: 2.667694568634033, Time: 3.816152334213257\n",
            "Epoch [1/1], Step [1400/12500], Loss: 0.9927442073822021, Time: 3.822246789932251\n",
            "Epoch [1/1], Step [1500/12500], Loss: 1.7898975610733032, Time: 3.8193023204803467\n",
            "Epoch [1/1], Step [1600/12500], Loss: 1.0672929286956787, Time: 3.8096868991851807\n",
            "Epoch [1/1], Step [1700/12500], Loss: 0.7623021006584167, Time: 3.8204026222229004\n",
            "Epoch [1/1], Step [1800/12500], Loss: 0.8143317699432373, Time: 3.814066171646118\n",
            "Epoch [1/1], Step [1900/12500], Loss: 0.9273908734321594, Time: 3.814716100692749\n",
            "Epoch [1/1], Step [2000/12500], Loss: 0.3832559883594513, Time: 3.8229801654815674\n",
            "Epoch [1/1], Step [2100/12500], Loss: 0.35296785831451416, Time: 3.835847854614258\n",
            "Epoch [1/1], Step [2200/12500], Loss: 0.5133137106895447, Time: 3.813755750656128\n",
            "Epoch [1/1], Step [2300/12500], Loss: 1.2174201011657715, Time: 3.8126211166381836\n",
            "Epoch [1/1], Step [2400/12500], Loss: 1.1897246837615967, Time: 3.813868284225464\n",
            "Epoch [1/1], Step [2500/12500], Loss: 1.18948233127594, Time: 3.810967206954956\n",
            "Epoch [1/1], Step [2600/12500], Loss: 2.439131259918213, Time: 3.814166307449341\n",
            "Epoch [1/1], Step [2700/12500], Loss: 0.75049889087677, Time: 3.815540075302124\n",
            "Epoch [1/1], Step [2800/12500], Loss: 0.7899265885353088, Time: 3.8082003593444824\n",
            "Epoch [1/1], Step [2900/12500], Loss: 0.4894121289253235, Time: 3.8115203380584717\n",
            "Epoch [1/1], Step [3000/12500], Loss: 0.6468830704689026, Time: 3.8067891597747803\n",
            "Epoch [1/1], Step [3100/12500], Loss: 1.753664255142212, Time: 3.8107221126556396\n",
            "Epoch [1/1], Step [3200/12500], Loss: 2.562565803527832, Time: 3.8083274364471436\n",
            "Epoch [1/1], Step [3300/12500], Loss: 1.1621577739715576, Time: 3.8105456829071045\n",
            "Epoch [1/1], Step [3400/12500], Loss: 0.8881262540817261, Time: 3.8046982288360596\n",
            "Epoch [1/1], Step [3500/12500], Loss: 1.1168774366378784, Time: 3.804030179977417\n",
            "Epoch [1/1], Step [3600/12500], Loss: 0.9786078929901123, Time: 3.82637619972229\n",
            "Epoch [1/1], Step [3700/12500], Loss: 0.29650694131851196, Time: 3.823117733001709\n",
            "Epoch [1/1], Step [3800/12500], Loss: 0.5518632531166077, Time: 3.8075265884399414\n",
            "Epoch [1/1], Step [3900/12500], Loss: 1.2254750728607178, Time: 3.808067560195923\n",
            "Epoch [1/1], Step [4000/12500], Loss: 1.3014721870422363, Time: 3.808483600616455\n",
            "Epoch [1/1], Step [4100/12500], Loss: 0.48118674755096436, Time: 3.813121795654297\n",
            "Epoch [1/1], Step [4200/12500], Loss: 3.708054304122925, Time: 3.809337854385376\n",
            "Epoch [1/1], Step [4300/12500], Loss: 1.0197473764419556, Time: 3.8096020221710205\n",
            "Epoch [1/1], Step [4400/12500], Loss: 0.5341314673423767, Time: 3.807957649230957\n",
            "Epoch [1/1], Step [4500/12500], Loss: 1.653131365776062, Time: 3.8090646266937256\n",
            "Epoch [1/1], Step [4600/12500], Loss: 2.3459904193878174, Time: 3.8087546825408936\n",
            "Epoch [1/1], Step [4700/12500], Loss: 1.571480631828308, Time: 3.8073880672454834\n",
            "Epoch [1/1], Step [4800/12500], Loss: 0.6004642248153687, Time: 3.8111214637756348\n",
            "Epoch [1/1], Step [4900/12500], Loss: 0.9271082282066345, Time: 3.805377244949341\n",
            "Epoch [1/1], Step [5000/12500], Loss: 1.5866551399230957, Time: 3.7993342876434326\n",
            "Epoch [1/1], Step [5100/12500], Loss: 0.899620771408081, Time: 3.809597969055176\n",
            "Epoch [1/1], Step [5200/12500], Loss: 0.36034440994262695, Time: 3.815622329711914\n",
            "Epoch [1/1], Step [5300/12500], Loss: 0.9366220235824585, Time: 3.8113255500793457\n",
            "Epoch [1/1], Step [5400/12500], Loss: 0.06734603643417358, Time: 3.8085434436798096\n",
            "Epoch [1/1], Step [5500/12500], Loss: 0.5275428295135498, Time: 3.8072304725646973\n",
            "Epoch [1/1], Step [5600/12500], Loss: 1.0638127326965332, Time: 3.8073742389678955\n",
            "Epoch [1/1], Step [5700/12500], Loss: 0.2790631949901581, Time: 3.80987811088562\n",
            "Epoch [1/1], Step [5800/12500], Loss: 0.4967961609363556, Time: 3.806093692779541\n",
            "Epoch [1/1], Step [5900/12500], Loss: 0.5501689314842224, Time: 3.8112823963165283\n",
            "Epoch [1/1], Step [6000/12500], Loss: 0.9045672416687012, Time: 3.807241201400757\n",
            "Epoch [1/1], Step [6100/12500], Loss: 0.6391767263412476, Time: 3.8039629459381104\n",
            "Epoch [1/1], Step [6200/12500], Loss: 0.26026880741119385, Time: 3.80666446685791\n",
            "Epoch [1/1], Step [6300/12500], Loss: 0.36177417635917664, Time: 3.808612108230591\n",
            "Epoch [1/1], Step [6400/12500], Loss: 0.8397163152694702, Time: 3.8065624237060547\n",
            "Epoch [1/1], Step [6500/12500], Loss: 0.7223832607269287, Time: 3.809415102005005\n",
            "Epoch [1/1], Step [6600/12500], Loss: 1.0896661281585693, Time: 3.806633472442627\n",
            "Epoch [1/1], Step [6700/12500], Loss: 1.2897415161132812, Time: 3.8227245807647705\n",
            "Epoch [1/1], Step [6800/12500], Loss: 1.2285058498382568, Time: 3.830282688140869\n",
            "Epoch [1/1], Step [6900/12500], Loss: 0.3379823565483093, Time: 3.812886953353882\n",
            "Epoch [1/1], Step [7000/12500], Loss: 0.40439990162849426, Time: 3.8097012042999268\n",
            "Epoch [1/1], Step [7100/12500], Loss: 0.22894993424415588, Time: 3.807079553604126\n",
            "Epoch [1/1], Step [7200/12500], Loss: 1.5443506240844727, Time: 3.805542230606079\n",
            "Epoch [1/1], Step [7300/12500], Loss: 1.0727083683013916, Time: 3.8052802085876465\n",
            "Epoch [1/1], Step [7400/12500], Loss: 1.2327549457550049, Time: 3.811298370361328\n",
            "Epoch [1/1], Step [7500/12500], Loss: 0.14613492786884308, Time: 3.809629201889038\n",
            "Epoch [1/1], Step [7600/12500], Loss: 0.8707578182220459, Time: 3.804706335067749\n",
            "Epoch [1/1], Step [7700/12500], Loss: 1.421854853630066, Time: 3.802504301071167\n",
            "Epoch [1/1], Step [7800/12500], Loss: 1.3638663291931152, Time: 3.807990550994873\n",
            "Epoch [1/1], Step [7900/12500], Loss: 0.8694978952407837, Time: 3.8034119606018066\n",
            "Epoch [1/1], Step [8000/12500], Loss: 0.35522300004959106, Time: 3.807145595550537\n",
            "Epoch [1/1], Step [8100/12500], Loss: 0.11981514096260071, Time: 3.8032941818237305\n",
            "Epoch [1/1], Step [8200/12500], Loss: 1.7733995914459229, Time: 3.8156189918518066\n",
            "Epoch [1/1], Step [8300/12500], Loss: 1.1051777601242065, Time: 3.8285107612609863\n",
            "Epoch [1/1], Step [8400/12500], Loss: 0.36630433797836304, Time: 3.807973623275757\n",
            "Epoch [1/1], Step [8500/12500], Loss: 2.333444356918335, Time: 3.802555561065674\n",
            "Epoch [1/1], Step [8600/12500], Loss: 0.24695149064064026, Time: 3.803556442260742\n",
            "Epoch [1/1], Step [8700/12500], Loss: 0.6556612253189087, Time: 3.810737371444702\n",
            "Epoch [1/1], Step [8800/12500], Loss: 0.5470073819160461, Time: 3.8081235885620117\n",
            "Epoch [1/1], Step [8900/12500], Loss: 1.098705768585205, Time: 3.807034730911255\n",
            "Epoch [1/1], Step [9000/12500], Loss: 0.16976508498191833, Time: 3.8048510551452637\n",
            "Epoch [1/1], Step [9100/12500], Loss: 1.8358464241027832, Time: 3.8065335750579834\n",
            "Epoch [1/1], Step [9200/12500], Loss: 0.3080032467842102, Time: 3.8059310913085938\n",
            "Epoch [1/1], Step [9300/12500], Loss: 1.538601279258728, Time: 3.811556339263916\n",
            "Epoch [1/1], Step [9400/12500], Loss: 0.3106503188610077, Time: 3.8091020584106445\n",
            "Epoch [1/1], Step [9500/12500], Loss: 0.2124076634645462, Time: 3.8051021099090576\n",
            "Epoch [1/1], Step [9600/12500], Loss: 2.036378860473633, Time: 3.808410882949829\n",
            "Epoch [1/1], Step [9700/12500], Loss: 0.07226026803255081, Time: 3.805107355117798\n",
            "Epoch [1/1], Step [9800/12500], Loss: 1.1737216711044312, Time: 3.806886911392212\n",
            "Epoch [1/1], Step [9900/12500], Loss: 0.8735236525535583, Time: 3.8066813945770264\n",
            "Epoch [1/1], Step [10000/12500], Loss: 0.18688561022281647, Time: 3.8106908798217773\n",
            "Epoch [1/1], Step [10100/12500], Loss: 0.860718846321106, Time: 3.811793565750122\n",
            "Epoch [1/1], Step [10200/12500], Loss: 0.10103470087051392, Time: 3.82881498336792\n",
            "Epoch [1/1], Step [10300/12500], Loss: 0.08681613206863403, Time: 3.8174283504486084\n",
            "Epoch [1/1], Step [10400/12500], Loss: 1.3349555730819702, Time: 3.804643154144287\n",
            "Epoch [1/1], Step [10500/12500], Loss: 0.6492593884468079, Time: 3.8051044940948486\n",
            "Epoch [1/1], Step [10600/12500], Loss: 0.14772236347198486, Time: 3.8100199699401855\n",
            "Epoch [1/1], Step [10700/12500], Loss: 0.04802912473678589, Time: 3.8097622394561768\n",
            "Epoch [1/1], Step [10800/12500], Loss: 0.528230607509613, Time: 3.8076510429382324\n",
            "Epoch [1/1], Step [10900/12500], Loss: 0.8096388578414917, Time: 3.806596517562866\n",
            "Epoch [1/1], Step [11000/12500], Loss: 0.8727337718009949, Time: 3.8061976432800293\n",
            "Epoch [1/1], Step [11100/12500], Loss: 0.963186502456665, Time: 3.8055641651153564\n",
            "Epoch [1/1], Step [11200/12500], Loss: 0.874812126159668, Time: 3.80710768699646\n",
            "Epoch [1/1], Step [11300/12500], Loss: 1.6193444728851318, Time: 3.810373306274414\n",
            "Epoch [1/1], Step [11400/12500], Loss: 0.7716785073280334, Time: 3.8126566410064697\n",
            "Epoch [1/1], Step [11500/12500], Loss: 0.11975785344839096, Time: 3.808966875076294\n",
            "Epoch [1/1], Step [11600/12500], Loss: 0.5704259276390076, Time: 3.806391954421997\n",
            "Epoch [1/1], Step [11700/12500], Loss: 1.3930546045303345, Time: 3.80664324760437\n",
            "Epoch [1/1], Step [11800/12500], Loss: 0.11711300909519196, Time: 3.8070385456085205\n",
            "Epoch [1/1], Step [11900/12500], Loss: 0.6836103796958923, Time: 3.803837537765503\n",
            "Epoch [1/1], Step [12000/12500], Loss: 0.14134001731872559, Time: 3.8155694007873535\n",
            "Epoch [1/1], Step [12100/12500], Loss: 1.5319428443908691, Time: 3.805128335952759\n",
            "Epoch [1/1], Step [12200/12500], Loss: 1.3771589994430542, Time: 3.8071250915527344\n",
            "Epoch [1/1], Step [12300/12500], Loss: 0.005930681247264147, Time: 3.8093819618225098\n",
            "Epoch [1/1], Step [12400/12500], Loss: 0.3519362509250641, Time: 3.805906057357788\n",
            "Epoch [1/1], Step [12500/12500], Loss: 0.4152882397174835, Time: 3.8043782711029053\n",
            "Test Accuracy of the model on the 10000 test images: 77.56 %\n"
          ],
          "name": "stdout"
        }
      ]
    },
    {
      "cell_type": "markdown",
      "metadata": {
        "id": "GWTNhWRBymrV"
      },
      "source": [
        "# Bloqueando capas\n",
        "Durante el entrenamiento se puede bloquear el entrenamiento de ciertas capas para acelerar el proceso.\n"
      ]
    },
    {
      "cell_type": "code",
      "metadata": {
        "colab": {
          "base_uri": "https://localhost:8080/"
        },
        "id": "QJ4BwmmjmUVJ",
        "outputId": "1a138df6-b14f-4115-e676-aa36407b242f"
      },
      "source": [
        "alexnet_lock = torch.hub.load('pytorch/vision:v0.9.0', 'alexnet', pretrained=True)\n",
        "alexnet_lock.eval()"
      ],
      "execution_count": 30,
      "outputs": [
        {
          "output_type": "stream",
          "text": [
            "Using cache found in /root/.cache/torch/hub/pytorch_vision_v0.9.0\n"
          ],
          "name": "stderr"
        },
        {
          "output_type": "execute_result",
          "data": {
            "text/plain": [
              "AlexNet(\n",
              "  (features): Sequential(\n",
              "    (0): Conv2d(3, 64, kernel_size=(11, 11), stride=(4, 4), padding=(2, 2))\n",
              "    (1): ReLU(inplace=True)\n",
              "    (2): MaxPool2d(kernel_size=3, stride=2, padding=0, dilation=1, ceil_mode=False)\n",
              "    (3): Conv2d(64, 192, kernel_size=(5, 5), stride=(1, 1), padding=(2, 2))\n",
              "    (4): ReLU(inplace=True)\n",
              "    (5): MaxPool2d(kernel_size=3, stride=2, padding=0, dilation=1, ceil_mode=False)\n",
              "    (6): Conv2d(192, 384, kernel_size=(3, 3), stride=(1, 1), padding=(1, 1))\n",
              "    (7): ReLU(inplace=True)\n",
              "    (8): Conv2d(384, 256, kernel_size=(3, 3), stride=(1, 1), padding=(1, 1))\n",
              "    (9): ReLU(inplace=True)\n",
              "    (10): Conv2d(256, 256, kernel_size=(3, 3), stride=(1, 1), padding=(1, 1))\n",
              "    (11): ReLU(inplace=True)\n",
              "    (12): MaxPool2d(kernel_size=3, stride=2, padding=0, dilation=1, ceil_mode=False)\n",
              "  )\n",
              "  (avgpool): AdaptiveAvgPool2d(output_size=(6, 6))\n",
              "  (classifier): Sequential(\n",
              "    (0): Dropout(p=0.5, inplace=False)\n",
              "    (1): Linear(in_features=9216, out_features=4096, bias=True)\n",
              "    (2): ReLU(inplace=True)\n",
              "    (3): Dropout(p=0.5, inplace=False)\n",
              "    (4): Linear(in_features=4096, out_features=4096, bias=True)\n",
              "    (5): ReLU(inplace=True)\n",
              "    (6): Linear(in_features=4096, out_features=1000, bias=True)\n",
              "  )\n",
              ")"
            ]
          },
          "metadata": {
            "tags": []
          },
          "execution_count": 30
        }
      ]
    },
    {
      "cell_type": "markdown",
      "metadata": {
        "id": "kNtIn1Np0mJJ"
      },
      "source": [
        "Se especifíca que no se cácule gradiente para el modelo."
      ]
    },
    {
      "cell_type": "code",
      "metadata": {
        "id": "0l2zmu7EmWjK"
      },
      "source": [
        "# Freeze model weights\n",
        "for param in alexnet_lock.parameters():\n",
        "    param.requires_grad = False"
      ],
      "execution_count": 31,
      "outputs": []
    },
    {
      "cell_type": "markdown",
      "metadata": {
        "id": "h7PduxLS0tDg"
      },
      "source": [
        "Se añade una nueva capa de clasificación. Cuando se añade un nueva capa, por defecto se establece que sí se cálculo el gradiente y, por tanto, se permite su entrenamiento."
      ]
    },
    {
      "cell_type": "code",
      "metadata": {
        "colab": {
          "base_uri": "https://localhost:8080/"
        },
        "id": "MdrtzwHLmb6P",
        "outputId": "ef38577f-11cb-4378-9af5-7af885a84535"
      },
      "source": [
        "alexnet_lock.classifier = torch.nn.Sequential(\n",
        "  torch.nn.Dropout(),\n",
        "  torch.nn.Linear(256 * 6 * 6, 4096),\n",
        "  torch.nn.ReLU(inplace=True),\n",
        "  torch.nn.Dropout(),\n",
        "  torch.nn.Linear(4096, 512),\n",
        "  torch.nn.ReLU(inplace=True),\n",
        "  torch.nn.Linear(512, num_classes),\n",
        ")\n",
        "alexnet_lock.eval()"
      ],
      "execution_count": 32,
      "outputs": [
        {
          "output_type": "execute_result",
          "data": {
            "text/plain": [
              "AlexNet(\n",
              "  (features): Sequential(\n",
              "    (0): Conv2d(3, 64, kernel_size=(11, 11), stride=(4, 4), padding=(2, 2))\n",
              "    (1): ReLU(inplace=True)\n",
              "    (2): MaxPool2d(kernel_size=3, stride=2, padding=0, dilation=1, ceil_mode=False)\n",
              "    (3): Conv2d(64, 192, kernel_size=(5, 5), stride=(1, 1), padding=(2, 2))\n",
              "    (4): ReLU(inplace=True)\n",
              "    (5): MaxPool2d(kernel_size=3, stride=2, padding=0, dilation=1, ceil_mode=False)\n",
              "    (6): Conv2d(192, 384, kernel_size=(3, 3), stride=(1, 1), padding=(1, 1))\n",
              "    (7): ReLU(inplace=True)\n",
              "    (8): Conv2d(384, 256, kernel_size=(3, 3), stride=(1, 1), padding=(1, 1))\n",
              "    (9): ReLU(inplace=True)\n",
              "    (10): Conv2d(256, 256, kernel_size=(3, 3), stride=(1, 1), padding=(1, 1))\n",
              "    (11): ReLU(inplace=True)\n",
              "    (12): MaxPool2d(kernel_size=3, stride=2, padding=0, dilation=1, ceil_mode=False)\n",
              "  )\n",
              "  (avgpool): AdaptiveAvgPool2d(output_size=(6, 6))\n",
              "  (classifier): Sequential(\n",
              "    (0): Dropout(p=0.5, inplace=False)\n",
              "    (1): Linear(in_features=9216, out_features=4096, bias=True)\n",
              "    (2): ReLU(inplace=True)\n",
              "    (3): Dropout(p=0.5, inplace=False)\n",
              "    (4): Linear(in_features=4096, out_features=512, bias=True)\n",
              "    (5): ReLU(inplace=True)\n",
              "    (6): Linear(in_features=512, out_features=10, bias=True)\n",
              "  )\n",
              ")"
            ]
          },
          "metadata": {
            "tags": []
          },
          "execution_count": 32
        }
      ]
    },
    {
      "cell_type": "markdown",
      "metadata": {
        "id": "W1XWyOms029m"
      },
      "source": [
        "Se pueden observar los parámetros bloqueados. En otro tipo de redes y con imágenes de más resolución se pueden reducir los parámetros a entrenar en un 99%."
      ]
    },
    {
      "cell_type": "code",
      "metadata": {
        "colab": {
          "base_uri": "https://localhost:8080/"
        },
        "id": "rkUZjydApHwL",
        "outputId": "d7d9eb62-95e3-4b98-cded-0d21a9cc2699"
      },
      "source": [
        "total_params = sum(p.numel() for p in alexnet_lock.parameters())\n",
        "print(f'{total_params:,} total parameters.')\n",
        "total_trainable_params = sum(\n",
        "    p.numel() for p in alexnet_lock.parameters() if p.requires_grad)\n",
        "print(f'{total_trainable_params:,} training parameters.')"
      ],
      "execution_count": 33,
      "outputs": [
        {
          "output_type": "stream",
          "text": [
            "42,325,322 total parameters.\n",
            "39,855,626 training parameters.\n"
          ],
          "name": "stdout"
        }
      ]
    },
    {
      "cell_type": "markdown",
      "metadata": {
        "id": "tNTYfJlR1Dmk"
      },
      "source": [
        "Se configurarn los parámetros y realiza el entrenamiento y la evaluación."
      ]
    },
    {
      "cell_type": "code",
      "metadata": {
        "colab": {
          "base_uri": "https://localhost:8080/"
        },
        "id": "wr0cNik4m5ua",
        "outputId": "bfb20c23-160f-45da-d51a-0fd70bdfcb5d"
      },
      "source": [
        "# Hyperparameters\n",
        "num_epochs = 1\n",
        "learning_rate = 0.0001\n",
        "momentum = 0.9\n",
        "\n",
        "# Model\n",
        "model = alexnet_lock.to(device)\n",
        "\n",
        "# Loss and optimizer\n",
        "criterion = torch.nn.CrossEntropyLoss()\n",
        "optimizer = torch.optim.SGD(model.parameters(), lr=learning_rate, momentum=momentum)\n",
        "\n",
        "# Train\n",
        "train_model(model, criterion, optimizer)\n",
        "\n",
        "# Eval\n",
        "eval_model(model)"
      ],
      "execution_count": 35,
      "outputs": [
        {
          "output_type": "stream",
          "text": [
            "Epoch [1/1], Step [100/12500], Loss: 0.0046402933076024055, Time: 2.2726705074310303\n",
            "Epoch [1/1], Step [200/12500], Loss: 0.10094183683395386, Time: 2.093092918395996\n",
            "Epoch [1/1], Step [300/12500], Loss: 0.17370957136154175, Time: 2.095818042755127\n",
            "Epoch [1/1], Step [400/12500], Loss: 0.8903066515922546, Time: 2.094352960586548\n",
            "Epoch [1/1], Step [500/12500], Loss: 0.43789833784103394, Time: 2.0930287837982178\n",
            "Epoch [1/1], Step [600/12500], Loss: 0.15619124472141266, Time: 2.1058857440948486\n",
            "Epoch [1/1], Step [700/12500], Loss: 0.13544592261314392, Time: 2.1133477687835693\n",
            "Epoch [1/1], Step [800/12500], Loss: 0.2817441523075104, Time: 2.1008429527282715\n",
            "Epoch [1/1], Step [900/12500], Loss: 0.08916536718606949, Time: 2.10213303565979\n",
            "Epoch [1/1], Step [1000/12500], Loss: 0.18848219513893127, Time: 2.0929722785949707\n",
            "Epoch [1/1], Step [1100/12500], Loss: 0.7554062008857727, Time: 2.0915634632110596\n",
            "Epoch [1/1], Step [1200/12500], Loss: 0.1251709759235382, Time: 2.0919532775878906\n",
            "Epoch [1/1], Step [1300/12500], Loss: 0.24535612761974335, Time: 2.0902607440948486\n",
            "Epoch [1/1], Step [1400/12500], Loss: 0.42606985569000244, Time: 2.0935373306274414\n",
            "Epoch [1/1], Step [1500/12500], Loss: 1.044904351234436, Time: 2.091893196105957\n",
            "Epoch [1/1], Step [1600/12500], Loss: 0.5883377194404602, Time: 2.0860347747802734\n",
            "Epoch [1/1], Step [1700/12500], Loss: 1.549775242805481, Time: 2.0938527584075928\n",
            "Epoch [1/1], Step [1800/12500], Loss: 0.05388769507408142, Time: 2.0896408557891846\n",
            "Epoch [1/1], Step [1900/12500], Loss: 0.6963862776756287, Time: 2.08902645111084\n",
            "Epoch [1/1], Step [2000/12500], Loss: 0.304058700799942, Time: 2.089350461959839\n",
            "Epoch [1/1], Step [2100/12500], Loss: 0.3143513798713684, Time: 2.09163498878479\n",
            "Epoch [1/1], Step [2200/12500], Loss: 0.19238443672657013, Time: 2.0880532264709473\n",
            "Epoch [1/1], Step [2300/12500], Loss: 0.48763027787208557, Time: 2.0853936672210693\n",
            "Epoch [1/1], Step [2400/12500], Loss: 1.3535579442977905, Time: 2.0885162353515625\n",
            "Epoch [1/1], Step [2500/12500], Loss: 0.18471094965934753, Time: 2.086015462875366\n",
            "Epoch [1/1], Step [2600/12500], Loss: 0.638321042060852, Time: 2.0900697708129883\n",
            "Epoch [1/1], Step [2700/12500], Loss: 0.6947075724601746, Time: 2.0845627784729004\n",
            "Epoch [1/1], Step [2800/12500], Loss: 0.08080386370420456, Time: 2.085895538330078\n",
            "Epoch [1/1], Step [2900/12500], Loss: 0.0075430371798574924, Time: 2.0850329399108887\n",
            "Epoch [1/1], Step [3000/12500], Loss: 0.22378796339035034, Time: 2.0843937397003174\n",
            "Epoch [1/1], Step [3100/12500], Loss: 1.686232566833496, Time: 2.083540678024292\n",
            "Epoch [1/1], Step [3200/12500], Loss: 0.1825847178697586, Time: 2.080579996109009\n",
            "Epoch [1/1], Step [3300/12500], Loss: 0.05028349906206131, Time: 2.0803027153015137\n",
            "Epoch [1/1], Step [3400/12500], Loss: 0.38727450370788574, Time: 2.09867262840271\n",
            "Epoch [1/1], Step [3500/12500], Loss: 0.031564779579639435, Time: 2.0964856147766113\n",
            "Epoch [1/1], Step [3600/12500], Loss: 0.345153272151947, Time: 2.095609426498413\n",
            "Epoch [1/1], Step [3700/12500], Loss: 0.1921357810497284, Time: 2.1140506267547607\n",
            "Epoch [1/1], Step [3800/12500], Loss: 0.05428112670779228, Time: 2.101055860519409\n",
            "Epoch [1/1], Step [3900/12500], Loss: 0.09697619825601578, Time: 2.087709665298462\n",
            "Epoch [1/1], Step [4000/12500], Loss: 0.08418066799640656, Time: 2.083629846572876\n",
            "Epoch [1/1], Step [4100/12500], Loss: 0.10549209266901016, Time: 2.0836730003356934\n",
            "Epoch [1/1], Step [4200/12500], Loss: 0.08860733360052109, Time: 2.086118698120117\n",
            "Epoch [1/1], Step [4300/12500], Loss: 0.117566779255867, Time: 2.0835280418395996\n",
            "Epoch [1/1], Step [4400/12500], Loss: 1.0022839307785034, Time: 2.0844624042510986\n",
            "Epoch [1/1], Step [4500/12500], Loss: 1.2910109758377075, Time: 2.083064079284668\n",
            "Epoch [1/1], Step [4600/12500], Loss: 0.053028400987386703, Time: 2.087538003921509\n",
            "Epoch [1/1], Step [4700/12500], Loss: 1.2098655700683594, Time: 2.0859153270721436\n",
            "Epoch [1/1], Step [4800/12500], Loss: 0.020939499139785767, Time: 2.0888755321502686\n",
            "Epoch [1/1], Step [4900/12500], Loss: 1.0803606510162354, Time: 2.0826218128204346\n",
            "Epoch [1/1], Step [5000/12500], Loss: 0.15825003385543823, Time: 2.0870347023010254\n",
            "Epoch [1/1], Step [5100/12500], Loss: 0.2884138226509094, Time: 2.082942485809326\n",
            "Epoch [1/1], Step [5200/12500], Loss: 0.7668947577476501, Time: 2.083348035812378\n",
            "Epoch [1/1], Step [5300/12500], Loss: 0.5689876079559326, Time: 2.0847439765930176\n",
            "Epoch [1/1], Step [5400/12500], Loss: 0.015351874753832817, Time: 2.0861051082611084\n",
            "Epoch [1/1], Step [5500/12500], Loss: 0.22276422381401062, Time: 2.081913471221924\n",
            "Epoch [1/1], Step [5600/12500], Loss: 0.8930209279060364, Time: 2.0852456092834473\n",
            "Epoch [1/1], Step [5700/12500], Loss: 0.49530863761901855, Time: 2.0893871784210205\n",
            "Epoch [1/1], Step [5800/12500], Loss: 0.44995662569999695, Time: 2.0784878730773926\n",
            "Epoch [1/1], Step [5900/12500], Loss: 0.3337085247039795, Time: 2.0721800327301025\n",
            "Epoch [1/1], Step [6000/12500], Loss: 0.09246520698070526, Time: 2.070814371109009\n",
            "Epoch [1/1], Step [6100/12500], Loss: 0.05689989775419235, Time: 2.082247495651245\n",
            "Epoch [1/1], Step [6200/12500], Loss: 0.020965494215488434, Time: 2.0853846073150635\n",
            "Epoch [1/1], Step [6300/12500], Loss: 0.032273195683956146, Time: 2.0958542823791504\n",
            "Epoch [1/1], Step [6400/12500], Loss: 0.05640207976102829, Time: 2.0945510864257812\n",
            "Epoch [1/1], Step [6500/12500], Loss: 0.501886785030365, Time: 2.0964670181274414\n",
            "Epoch [1/1], Step [6600/12500], Loss: 0.014111094176769257, Time: 2.0963640213012695\n",
            "Epoch [1/1], Step [6700/12500], Loss: 0.1144990473985672, Time: 2.0889947414398193\n",
            "Epoch [1/1], Step [6800/12500], Loss: 1.2010267972946167, Time: 2.0881588459014893\n",
            "Epoch [1/1], Step [6900/12500], Loss: 0.01597575657069683, Time: 2.0822432041168213\n",
            "Epoch [1/1], Step [7000/12500], Loss: 0.022075364366173744, Time: 2.083303928375244\n",
            "Epoch [1/1], Step [7100/12500], Loss: 0.15491431951522827, Time: 2.0864577293395996\n",
            "Epoch [1/1], Step [7200/12500], Loss: 0.15738356113433838, Time: 2.084564208984375\n",
            "Epoch [1/1], Step [7300/12500], Loss: 1.0803059339523315, Time: 2.0848708152770996\n",
            "Epoch [1/1], Step [7400/12500], Loss: 0.08364028483629227, Time: 2.086664915084839\n",
            "Epoch [1/1], Step [7500/12500], Loss: 0.3793548047542572, Time: 2.085287570953369\n",
            "Epoch [1/1], Step [7600/12500], Loss: 0.2087990641593933, Time: 2.0905613899230957\n",
            "Epoch [1/1], Step [7700/12500], Loss: 0.21299269795417786, Time: 2.0824952125549316\n",
            "Epoch [1/1], Step [7800/12500], Loss: 0.6754559874534607, Time: 2.0851686000823975\n",
            "Epoch [1/1], Step [7900/12500], Loss: 1.3566699028015137, Time: 2.0818216800689697\n",
            "Epoch [1/1], Step [8000/12500], Loss: 0.06024154648184776, Time: 2.0845954418182373\n",
            "Epoch [1/1], Step [8100/12500], Loss: 0.1913985013961792, Time: 2.0884623527526855\n",
            "Epoch [1/1], Step [8200/12500], Loss: 0.04781625047326088, Time: 2.0876529216766357\n",
            "Epoch [1/1], Step [8300/12500], Loss: 0.013152867555618286, Time: 2.0820469856262207\n",
            "Epoch [1/1], Step [8400/12500], Loss: 0.2634979486465454, Time: 2.0835182666778564\n",
            "Epoch [1/1], Step [8500/12500], Loss: 0.05731888487935066, Time: 2.0880165100097656\n",
            "Epoch [1/1], Step [8600/12500], Loss: 0.046718984842300415, Time: 2.0884928703308105\n",
            "Epoch [1/1], Step [8700/12500], Loss: 0.004585962742567062, Time: 2.0858287811279297\n",
            "Epoch [1/1], Step [8800/12500], Loss: 0.01682911068201065, Time: 2.0911474227905273\n",
            "Epoch [1/1], Step [8900/12500], Loss: 0.8913730978965759, Time: 2.087230682373047\n",
            "Epoch [1/1], Step [9000/12500], Loss: 0.003760990221053362, Time: 2.0842010974884033\n",
            "Epoch [1/1], Step [9100/12500], Loss: 0.38717249035835266, Time: 2.0871660709381104\n",
            "Epoch [1/1], Step [9200/12500], Loss: 0.02393430843949318, Time: 2.092541456222534\n",
            "Epoch [1/1], Step [9300/12500], Loss: 0.44542908668518066, Time: 2.0972015857696533\n",
            "Epoch [1/1], Step [9400/12500], Loss: 0.043624743819236755, Time: 2.0997538566589355\n",
            "Epoch [1/1], Step [9500/12500], Loss: 0.0361483134329319, Time: 2.0930800437927246\n",
            "Epoch [1/1], Step [9600/12500], Loss: 0.17728368937969208, Time: 2.0939295291900635\n",
            "Epoch [1/1], Step [9700/12500], Loss: 0.18976625800132751, Time: 2.083820343017578\n",
            "Epoch [1/1], Step [9800/12500], Loss: 0.8980510234832764, Time: 2.0830843448638916\n",
            "Epoch [1/1], Step [9900/12500], Loss: 0.07419984042644501, Time: 2.0833804607391357\n",
            "Epoch [1/1], Step [10000/12500], Loss: 0.018946442753076553, Time: 2.0860769748687744\n",
            "Epoch [1/1], Step [10100/12500], Loss: 0.20612794160842896, Time: 2.0849530696868896\n",
            "Epoch [1/1], Step [10200/12500], Loss: 0.18568232655525208, Time: 2.0901384353637695\n",
            "Epoch [1/1], Step [10300/12500], Loss: 0.014079486019909382, Time: 2.089505672454834\n",
            "Epoch [1/1], Step [10400/12500], Loss: 0.10766900330781937, Time: 2.0867364406585693\n",
            "Epoch [1/1], Step [10500/12500], Loss: 0.04224411025643349, Time: 2.086794137954712\n",
            "Epoch [1/1], Step [10600/12500], Loss: 0.1892859786748886, Time: 2.0854923725128174\n",
            "Epoch [1/1], Step [10700/12500], Loss: 0.23392102122306824, Time: 2.085435390472412\n",
            "Epoch [1/1], Step [10800/12500], Loss: 0.10081975907087326, Time: 2.085472583770752\n",
            "Epoch [1/1], Step [10900/12500], Loss: 1.3639259338378906, Time: 2.083359956741333\n",
            "Epoch [1/1], Step [11000/12500], Loss: 0.020004067569971085, Time: 2.086660146713257\n",
            "Epoch [1/1], Step [11100/12500], Loss: 0.002779792994260788, Time: 2.083162307739258\n",
            "Epoch [1/1], Step [11200/12500], Loss: 0.2599852979183197, Time: 2.088421106338501\n",
            "Epoch [1/1], Step [11300/12500], Loss: 0.19452381134033203, Time: 2.083935022354126\n",
            "Epoch [1/1], Step [11400/12500], Loss: 0.6120709776878357, Time: 2.0869407653808594\n",
            "Epoch [1/1], Step [11500/12500], Loss: 0.2599940299987793, Time: 2.081305742263794\n",
            "Epoch [1/1], Step [11600/12500], Loss: 0.09086774289608002, Time: 2.0973360538482666\n",
            "Epoch [1/1], Step [11700/12500], Loss: 0.08483166992664337, Time: 2.089221954345703\n",
            "Epoch [1/1], Step [11800/12500], Loss: 0.40129536390304565, Time: 2.083449602127075\n",
            "Epoch [1/1], Step [11900/12500], Loss: 0.16094325482845306, Time: 2.0805702209472656\n",
            "Epoch [1/1], Step [12000/12500], Loss: 0.10226307064294815, Time: 2.0863962173461914\n",
            "Epoch [1/1], Step [12100/12500], Loss: 0.26316559314727783, Time: 2.100905179977417\n",
            "Epoch [1/1], Step [12200/12500], Loss: 0.02735874429345131, Time: 2.0962955951690674\n",
            "Epoch [1/1], Step [12300/12500], Loss: 0.009545854292809963, Time: 2.0887911319732666\n",
            "Epoch [1/1], Step [12400/12500], Loss: 0.14465172588825226, Time: 2.0863146781921387\n",
            "Epoch [1/1], Step [12500/12500], Loss: 0.0230477936565876, Time: 2.081625461578369\n",
            "Test Accuracy of the model on the 10000 test images: 84.53 %\n"
          ],
          "name": "stdout"
        }
      ]
    },
    {
      "cell_type": "markdown",
      "metadata": {
        "id": "rW_KVtvE1JPD"
      },
      "source": [
        "El dataset es muy común para analizar el rendimiento de nuevos modelos. Se puede comprobar [la precisión de los nuevos modelos](https://benchmarks.ai/cifar-10)."
      ]
    }
  ]
}